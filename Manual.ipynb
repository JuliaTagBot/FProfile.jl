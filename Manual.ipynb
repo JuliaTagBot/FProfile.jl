{
 "cells": [
  {
   "cell_type": "markdown",
   "metadata": {},
   "source": [
    "[FProfile.jl](https://github.com/cstjean/FProfile.jl) provides an alternative interface for [Julia's sampling profiler](https://docs.julialang.org/en/latest/manual/profile/). Please read the introduction of that document before proceeding if you've never used `@profile`.\n",
    "\n",
    "# Profiling\n",
    "\n",
    "You can build a profile by calling `@fprofile(code, delay=0.001, n_samples=1000000)`:"
   ]
  },
  {
   "cell_type": "code",
   "execution_count": 1,
   "metadata": {},
   "outputs": [
    {
     "data": {
      "text/plain": [
       "ProfileData(43 backtraces)"
      ]
     },
     "execution_count": 1,
     "metadata": {},
     "output_type": "execute_result"
    }
   ],
   "source": [
    "using FProfile, Calculus\n",
    "\n",
    "pd = @fprofile second_derivative(sin, 1.0)"
   ]
  },
  {
   "cell_type": "markdown",
   "metadata": {},
   "source": [
    "`@fprofile(N, ...)` is shorthand for `@fprofile(for _ in 1:N ... end)`:"
   ]
  },
  {
   "cell_type": "code",
   "execution_count": 2,
   "metadata": {},
   "outputs": [
    {
     "data": {
      "text/plain": [
       "ProfileData(942 backtraces)"
      ]
     },
     "execution_count": 2,
     "metadata": {},
     "output_type": "execute_result"
    }
   ],
   "source": [
    "pd = @fprofile 1000000 second_derivative(sin, 1.0)"
   ]
  },
  {
   "cell_type": "markdown",
   "metadata": {},
   "source": [
    "Do not forget that Julia compiles code the first time a function is run; if you do not want to measure compilation time, execute your code once before profiling."
   ]
  },
  {
   "cell_type": "markdown",
   "metadata": {},
   "source": [
    "# Flat view\n",
    "\n",
    "FProfile's `flat` report is a [dataframe](http://juliadata.github.io/DataFrames.jl/stable/man/getting_started/#Getting-Started-1). No particular knowledge of dataframes is necessary. I'll provide a few common operations below."
   ]
  },
  {
   "cell_type": "code",
   "execution_count": 3,
   "metadata": {},
   "outputs": [
    {
     "data": {
      "text/html": [
       "<table class=\"data-frame\"><thead><tr><th></th><th>count_pct</th><th>stackframe</th></tr></thead><tbody><tr><th>1</th><td>100.0</td><td>execute_request(::ZMQ.Socket, ::IJulia.Msg) at execute_request.jl:154</td></tr><tr><th>2</th><td>100.0</td><td>anonymous at &lt;missing&gt;:?</td></tr><tr><th>3</th><td>100.0</td><td>(::IJulia.##14#17)() at task.jl:335</td></tr><tr><th>4</th><td>100.0</td><td>eventloop(::ZMQ.Socket) at eventloop.jl:8</td></tr><tr><th>5</th><td>100.0</td><td>macro expansion at profile.jl:23 [inlined]</td></tr><tr><th>6</th><td>100.0</td><td>include_string(::Module, ::String, ::String) at Compat.jl:464</td></tr><tr><th>7</th><td>100.0</td><td>include_string(::String, ::String) at loading.jl:515</td></tr><tr><th>8</th><td>100.0</td><td>macro expansion at FProfile.jl:53 [inlined]</td></tr><tr><th>9</th><td>99.89</td><td>macro expansion at FProfile.jl:68 [inlined]</td></tr><tr><th>10</th><td>98.94</td><td>second_derivative(::Function, ::Float64) at derivative.jl:71</td></tr><tr><th>11</th><td>50.21</td><td>derivative(::Function, ::Symbol, ::Symbol) at derivative.jl:3</td></tr><tr><th>12</th><td>19.96</td><td>finite_difference_hessian(::Function, ::Function, ::Float64, ::Symbol) at finite_difference.jl:224</td></tr><tr><th>13</th><td>12.95</td><td>finite_difference(::Calculus.##1#3{Base.#sin,Symbol}, ::Float64, ::Symbol) at finite_difference.jl:55</td></tr><tr><th>14</th><td>6.26</td><td>finite_difference(::Base.#sin, ::Float64, ::Symbol) at finite_difference.jl:27</td></tr><tr><th>15</th><td>5.94</td><td>sin at math.jl:419 [inlined]</td></tr></tbody></table>"
      ],
      "text/plain": [
       "15×2 DataFrames.DataFrame\n",
       "│ Row │ count_pct │\n",
       "├─────┼───────────┤\n",
       "│ 1   │ 100.0     │\n",
       "│ 2   │ 100.0     │\n",
       "│ 3   │ 100.0     │\n",
       "│ 4   │ 100.0     │\n",
       "│ 5   │ 100.0     │\n",
       "│ 6   │ 100.0     │\n",
       "│ 7   │ 100.0     │\n",
       "│ 8   │ 100.0     │\n",
       "│ 9   │ 99.89     │\n",
       "│ 10  │ 98.94     │\n",
       "│ 11  │ 50.21     │\n",
       "│ 12  │ 19.96     │\n",
       "│ 13  │ 12.95     │\n",
       "│ 14  │ 6.26      │\n",
       "│ 15  │ 5.94      │\n",
       "\n",
       "│ Row │ stackframe                                                                                            │\n",
       "├─────┼───────────────────────────────────────────────────────────────────────────────────────────────────────┤\n",
       "│ 1   │ execute_request(::ZMQ.Socket, ::IJulia.Msg) at execute_request.jl:154                                 │\n",
       "│ 2   │ anonymous at <missing>:?                                                                              │\n",
       "│ 3   │ (::IJulia.##14#17)() at task.jl:335                                                                   │\n",
       "│ 4   │ eventloop(::ZMQ.Socket) at eventloop.jl:8                                                             │\n",
       "│ 5   │ macro expansion at profile.jl:23 [inlined]                                                            │\n",
       "│ 6   │ include_string(::Module, ::String, ::String) at Compat.jl:464                                         │\n",
       "│ 7   │ include_string(::String, ::String) at loading.jl:515                                                  │\n",
       "│ 8   │ macro expansion at FProfile.jl:53 [inlined]                                                           │\n",
       "│ 9   │ macro expansion at FProfile.jl:68 [inlined]                                                           │\n",
       "│ 10  │ second_derivative(::Function, ::Float64) at derivative.jl:71                                          │\n",
       "│ 11  │ derivative(::Function, ::Symbol, ::Symbol) at derivative.jl:3                                         │\n",
       "│ 12  │ finite_difference_hessian(::Function, ::Function, ::Float64, ::Symbol) at finite_difference.jl:224    │\n",
       "│ 13  │ finite_difference(::Calculus.##1#3{Base.#sin,Symbol}, ::Float64, ::Symbol) at finite_difference.jl:55 │\n",
       "│ 14  │ finite_difference(::Base.#sin, ::Float64, ::Symbol) at finite_difference.jl:27                        │\n",
       "│ 15  │ sin at math.jl:419 [inlined]                                                                          │"
      ]
     },
     "execution_count": 3,
     "metadata": {},
     "output_type": "execute_result"
    }
   ],
   "source": [
    "using DataFrames\n",
    "\n",
    "df = flat(pd)\n",
    "head(df, 15)   # show only the first 15 rows (the 15 rows with the highest count)"
   ]
  },
  {
   "cell_type": "markdown",
   "metadata": {},
   "source": [
    "The first column shows what fraction of backtraces (in %) go through the `method at file:line_number` in the `stackframe` column. It's the same quantity as in `Base.Profile.print()`, except for recursive calls: if `factorial(2)` calls `factorial(1)`, that's 2 counts in Base's report, but only 1 count in FProfile.\n",
    "\n",
    "You can select a subset of the dataframe by using one of the five accessors: `get_specialization, get_method, get_file, get_function` and `get_module`."
   ]
  },
  {
   "cell_type": "code",
   "execution_count": 4,
   "metadata": {},
   "outputs": [
    {
     "data": {
      "text/html": [
       "<table class=\"data-frame\"><thead><tr><th></th><th>count_pct</th><th>stackframe</th></tr></thead><tbody><tr><th>1</th><td>50.21</td><td>derivative(::Function, ::Symbol, ::Symbol) at derivative.jl:3</td></tr><tr><th>2</th><td>1.06</td><td>derivative(::Function, ::Symbol, ::Symbol) at derivative.jl:0</td></tr></tbody></table>"
      ],
      "text/plain": [
       "2×2 DataFrames.DataFrame\n",
       "│ Row │ count_pct │\n",
       "├─────┼───────────┤\n",
       "│ 1   │ 50.21     │\n",
       "│ 2   │ 1.06      │\n",
       "\n",
       "│ Row │ stackframe                                                    │\n",
       "├─────┼───────────────────────────────────────────────────────────────┤\n",
       "│ 1   │ derivative(::Function, ::Symbol, ::Symbol) at derivative.jl:3 │\n",
       "│ 2   │ derivative(::Function, ::Symbol, ::Symbol) at derivative.jl:0 │"
      ]
     },
     "execution_count": 4,
     "metadata": {},
     "output_type": "execute_result"
    }
   ],
   "source": [
    "df[get_function.(df[:stackframe]) .== derivative, :]  # select the `derivative` rows"
   ]
  },
  {
   "cell_type": "markdown",
   "metadata": {},
   "source": [
    "It is common to focus optimization efforts on one or more modules at a time (... the ones you're developing). `flat(pd, MyModule)` filters out other modules and adds a useful column: `self_pct` measures how much `MyModule`-specific work is done on that line.\n",
    "\n",
    "For instance, in the code below, while the `do_computation()` call takes a long time (it has a high `count_percent`), it merely calls another `Main` function, so it has a low `self_pct`. `sum_of_sin` has `self_pct = 100%` because while it calls `sum` and `sin`, those are defined in another module (`Base`), and counted as external to `Main`. \n",
    "\n",
    "`flat(pd, (Module1, Module2, ...))` is also accepted."
   ]
  },
  {
   "cell_type": "code",
   "execution_count": 5,
   "metadata": {},
   "outputs": [
    {
     "data": {
      "text/html": [
       "<table class=\"data-frame\"><thead><tr><th></th><th>count_pct</th><th>self_pct</th><th>stackframe</th></tr></thead><tbody><tr><th>1</th><td>100.0</td><td>0.0</td><td>do_computation(::Int64) at In[5]:1</td></tr><tr><th>2</th><td>100.0</td><td>100.0</td><td>sum_of_sin(::Int64) at In[5]:2</td></tr></tbody></table>"
      ],
      "text/plain": [
       "2×3 DataFrames.DataFrame\n",
       "│ Row │ count_pct │ self_pct │ stackframe                         │\n",
       "├─────┼───────────┼──────────┼────────────────────────────────────┤\n",
       "│ 1   │ 100.0     │ 0.0      │ do_computation(::Int64) at In[5]:1 │\n",
       "│ 2   │ 100.0     │ 100.0    │ sum_of_sin(::Int64) at In[5]:2     │"
      ]
     },
     "execution_count": 5,
     "metadata": {},
     "output_type": "execute_result"
    }
   ],
   "source": [
    "@noinline do_computation(n) = sum_of_sin(n)\n",
    "@noinline sum_of_sin(n) = sum(sin, 1:n)\n",
    "pd2 = @fprofile do_computation(10000000)\n",
    "flat(pd2, Main)"
   ]
  },
  {
   "cell_type": "markdown",
   "metadata": {},
   "source": [
    "It pays to make sure that functions with a high `self_pct` are [well optimized](https://docs.julialang.org/en/latest/manual/performance-tips/).\n",
    "\n",
    "Another way to reduce the level of detail is to aggregate by `:specialization, :method, :file, :function`, or `:module`."
   ]
  },
  {
   "cell_type": "code",
   "execution_count": 6,
   "metadata": {},
   "outputs": [
    {
     "data": {
      "text/html": [
       "<table class=\"data-frame\"><thead><tr><th></th><th>count_pct</th><th>method</th></tr></thead><tbody><tr><th>1</th><td>100.0</td><td>include_string(txt::String, fname::String) in Base at loading.jl:515</td></tr><tr><th>2</th><td>100.0</td><td>execute_request(socket, msg) in IJulia at /Users/cedric/.julia/v0.6/IJulia/src/execute_request.jl:115</td></tr><tr><th>3</th><td>100.0</td><td>eventloop(socket) in IJulia at /Users/cedric/.julia/v0.6/IJulia/src/eventloop.jl:2</td></tr><tr><th>4</th><td>100.0</td><td>(::IJulia.##14#17)() in IJulia at task.jl:335</td></tr><tr><th>5</th><td>100.0</td><td>include_string(mod::Module, code::String, fname::String) in Compat at /Users/cedric/.julia/v0.6/Compat/src/Compat.jl:464</td></tr><tr><th>6</th><td>100.0</td><td>missing_info() in FProfile.MissingInfo at /Users/cedric/.julia/v0.6/FProfile/src/FProfile.jl:26</td></tr><tr><th>7</th><td>99.68</td><td>second_derivative(f::Function, x::Number) in Calculus at /Users/cedric/.julia/v0.6/Calculus/src/derivative.jl:71</td></tr><tr><th>8</th><td>51.27</td><td>derivative(f::Function, ftype::Symbol, dtype::Symbol) in Calculus at /Users/cedric/.julia/v0.6/Calculus/src/derivative.jl:2</td></tr><tr><th>9</th><td>20.59</td><td>finite_difference_hessian(f::Function, g::Function, x::Number, dtype::Symbol) in Calculus at /Users/cedric/.julia/v0.6/Calculus/src/finite_difference.jl:224</td></tr><tr><th>10</th><td>16.35</td><td>finite_difference(f::Function, x::T, dtype::Symbol) where T&lt;:Number in Calculus at /Users/cedric/.julia/v0.6/Calculus/src/finite_difference.jl:48</td></tr></tbody></table>"
      ],
      "text/plain": [
       "10×2 DataFrames.DataFrame\n",
       "│ Row │ count_pct │\n",
       "├─────┼───────────┤\n",
       "│ 1   │ 100.0     │\n",
       "│ 2   │ 100.0     │\n",
       "│ 3   │ 100.0     │\n",
       "│ 4   │ 100.0     │\n",
       "│ 5   │ 100.0     │\n",
       "│ 6   │ 100.0     │\n",
       "│ 7   │ 99.68     │\n",
       "│ 8   │ 51.27     │\n",
       "│ 9   │ 20.59     │\n",
       "│ 10  │ 16.35     │\n",
       "\n",
       "│ Row │ method                                                                                                                                                       │\n",
       "├─────┼──────────────────────────────────────────────────────────────────────────────────────────────────────────────────────────────────────────────────────────────┤\n",
       "│ 1   │ include_string(txt::String, fname::String) in Base at loading.jl:515                                                                                         │\n",
       "│ 2   │ execute_request(socket, msg) in IJulia at /Users/cedric/.julia/v0.6/IJulia/src/execute_request.jl:115                                                        │\n",
       "│ 3   │ eventloop(socket) in IJulia at /Users/cedric/.julia/v0.6/IJulia/src/eventloop.jl:2                                                                           │\n",
       "│ 4   │ (::IJulia.##14#17)() in IJulia at task.jl:335                                                                                                                │\n",
       "│ 5   │ include_string(mod::Module, code::String, fname::String) in Compat at /Users/cedric/.julia/v0.6/Compat/src/Compat.jl:464                                     │\n",
       "│ 6   │ missing_info() in FProfile.MissingInfo at /Users/cedric/.julia/v0.6/FProfile/src/FProfile.jl:26                                                              │\n",
       "│ 7   │ second_derivative(f::Function, x::Number) in Calculus at /Users/cedric/.julia/v0.6/Calculus/src/derivative.jl:71                                             │\n",
       "│ 8   │ derivative(f::Function, ftype::Symbol, dtype::Symbol) in Calculus at /Users/cedric/.julia/v0.6/Calculus/src/derivative.jl:2                                  │\n",
       "│ 9   │ finite_difference_hessian(f::Function, g::Function, x::Number, dtype::Symbol) in Calculus at /Users/cedric/.julia/v0.6/Calculus/src/finite_difference.jl:224 │\n",
       "│ 10  │ finite_difference(f::Function, x::T, dtype::Symbol) where T<:Number in Calculus at /Users/cedric/.julia/v0.6/Calculus/src/finite_difference.jl:48            │"
      ]
     },
     "execution_count": 6,
     "metadata": {},
     "output_type": "execute_result"
    }
   ],
   "source": [
    "df_by_method = flat(pd, combineby=:method)"
   ]
  },
  {
   "cell_type": "markdown",
   "metadata": {},
   "source": [
    "You can see the context (caller/called functions) around each of these rows by passing it to `tree`:"
   ]
  },
  {
   "cell_type": "code",
   "execution_count": 7,
   "metadata": {},
   "outputs": [
    {
     "data": {
      "text/plain": [
       " 194 ...ulus/src/derivative.jl:71; second_derivative(::Function, ::F...\n",
       "  188 .../finite_difference.jl:224; finite_difference_hessian(::Func...\n",
       "   122 .../finite_difference.jl:55; finite_difference(::Calculus.##1...\n",
       "   29  .../finite_difference.jl:27; finite_difference(::Calculus.##1...\n",
       "   3   .../finite_difference.jl:0; finite_difference(::Calculus.##1...\n",
       "  6   .../finite_difference.jl:0; finite_difference_hessian(::Func...\n"
      ]
     },
     "execution_count": 7,
     "metadata": {},
     "output_type": "execute_result"
    }
   ],
   "source": [
    "tree(pd, df_by_method, 9)   # show the context of the 9th row of `df_by_method`"
   ]
  },
  {
   "cell_type": "markdown",
   "metadata": {},
   "source": [
    "Other useful dataframe commands:\n",
    "\n",
    "```julia\n",
    "df[[:count_percent, :method]]   # select only those two columns\n",
    "sort(df, cols=:self_pct, rev=true)  # sort by self_pct\n",
    "showall(df)   # show the whole dataframe\n",
    "```\n",
    "\n",
    "See `?flat` for more options."
   ]
  },
  {
   "cell_type": "markdown",
   "metadata": {},
   "source": [
    "#### Comparing results\n",
    "\n",
    "Pass two `ProfileData` objects to `flat` to compare them. The results are sorted with the biggest regressions (in absolute terms) at the top and the biggest improvements at the bottom (see `?DataFrames.tail`)."
   ]
  },
  {
   "cell_type": "code",
   "execution_count": 8,
   "metadata": {},
   "outputs": [
    {
     "data": {
      "text/html": [
       "<table class=\"data-frame\"><thead><tr><th></th><th>count_pct_1</th><th>count_pct_2</th><th>count_pct_diff</th><th>function</th></tr></thead><tbody><tr><th>1</th><td>51.27</td><td>54.21</td><td>2.94</td><td>Calculus.derivative</td></tr><tr><th>2</th><td>100.0</td><td>99.79</td><td>-0.21</td><td>IJulia.execute_request</td></tr><tr><th>3</th><td>100.0</td><td>99.79</td><td>-0.21</td><td>include_string</td></tr><tr><th>4</th><td>100.0</td><td>99.79</td><td>-0.21</td><td>FProfile.MissingInfo.missing_info</td></tr><tr><th>5</th><td>100.0</td><td>99.79</td><td>-0.21</td><td>IJulia.eventloop</td></tr><tr><th>6</th><td>100.0</td><td>99.79</td><td>-0.21</td><td>IJulia.#14</td></tr><tr><th>7</th><td>99.68</td><td>99.27</td><td>-0.41</td><td>Calculus.second_derivative</td></tr><tr><th>8</th><td>16.35</td><td>14.98</td><td>-1.37</td><td>Calculus.finite_difference</td></tr><tr><th>9</th><td>20.59</td><td>18.73</td><td>-1.86</td><td>Calculus.finite_difference_hessian</td></tr></tbody></table>"
      ],
      "text/plain": [
       "9×4 DataFrames.DataFrame\n",
       "│ Row │ count_pct_1 │ count_pct_2 │ count_pct_diff │\n",
       "├─────┼─────────────┼─────────────┼────────────────┤\n",
       "│ 1   │ 51.27       │ 54.21       │ 2.94           │\n",
       "│ 2   │ 100.0       │ 99.79       │ -0.21          │\n",
       "│ 3   │ 100.0       │ 99.79       │ -0.21          │\n",
       "│ 4   │ 100.0       │ 99.79       │ -0.21          │\n",
       "│ 5   │ 100.0       │ 99.79       │ -0.21          │\n",
       "│ 6   │ 100.0       │ 99.79       │ -0.21          │\n",
       "│ 7   │ 99.68       │ 99.27       │ -0.41          │\n",
       "│ 8   │ 16.35       │ 14.98       │ -1.37          │\n",
       "│ 9   │ 20.59       │ 18.73       │ -1.86          │\n",
       "\n",
       "│ Row │ function                           │\n",
       "├─────┼────────────────────────────────────┤\n",
       "│ 1   │ Calculus.derivative                │\n",
       "│ 2   │ IJulia.execute_request             │\n",
       "│ 3   │ include_string                     │\n",
       "│ 4   │ FProfile.MissingInfo.missing_info  │\n",
       "│ 5   │ IJulia.eventloop                   │\n",
       "│ 6   │ IJulia.#14                         │\n",
       "│ 7   │ Calculus.second_derivative         │\n",
       "│ 8   │ Calculus.finite_difference         │\n",
       "│ 9   │ Calculus.finite_difference_hessian │"
      ]
     },
     "execution_count": 8,
     "metadata": {},
     "output_type": "execute_result"
    }
   ],
   "source": [
    "pd2 = @fprofile 1000000 second_derivative(sin, 1.0)\n",
    "flat(pd, pd2, combineby=:function)"
   ]
  },
  {
   "cell_type": "markdown",
   "metadata": {},
   "source": [
    "Of course, this is most useful when comparing different algorithms or commits (see [Revise.jl](https://github.com/timholy/Revise.jl)). The differences in the above table are  just noise."
   ]
  },
  {
   "cell_type": "markdown",
   "metadata": {},
   "source": [
    "# Tree view\n",
    "\n",
    "FProfile's tree view looks the same as `Base.Profile.print(format=:tree)`. The numbers represent raw counts. (If some branches seem out of place, see [this issue](https://github.com/JuliaLang/julia/issues/9689))"
   ]
  },
  {
   "cell_type": "code",
   "execution_count": 9,
   "metadata": {},
   "outputs": [
    {
     "data": {
      "text/plain": [
       " 942 ./task.jl:335; (::IJulia.##14#17)()\n",
       "  942 ...Julia/src/eventloop.jl:8; eventloop(::ZMQ.Socket)\n",
       "   942 ...rc/execute_request.jl:154; execute_request(::ZMQ.Socket, ::...\n",
       "    942 ...Compat/src/Compat.jl:464; include_string(::Module, ::Stri...\n",
       "     942 ./loading.jl:515; include_string(::String, ::String)\n",
       "      942 ./<missing>:?; FProfile.MissingInfo.missing_info\n",
       "       942 ...ile/src/FProfile.jl:53; FProfile.MissingInfo.missing_info\n",
       "        942 ./profile.jl:23; FProfile.MissingInfo.missing_info\n",
       "         941 ...ile/src/FProfile.jl:68; FProfile.MissingInfo.missing_info\n",
       "          932 .../src/derivative.jl:71; second_derivative(::Function...\n",
       "           473 ...src/derivative.jl:3; derivative(::Function, ::Sy...\n",
       "           188 ...ite_difference.jl:224; finite_difference_hessian(:...\n",
       "            122 ...ite_difference.jl:55; finite_difference(::Calculu...\n",
       "             67 ...ite_difference.jl:55; finite_difference(::Base.#s...\n",
       "              56 ./math.jl:419; FProfile.MissingInfo.missi...\n",
       "               1 ./math.jl:300; FProfile.MissingInfo.missi...\n",
       "             30 ...ite_difference.jl:27; finite_difference(::Base.#s...\n",
       "             3  ...ite_difference.jl:54; finite_difference(::Base.#s...\n",
       "             3  ...ite_difference.jl:0; finite_difference(::Base.#s...\n",
       "            29  ...ite_difference.jl:27; finite_difference(::Calculu...\n",
       "            3   ...ite_difference.jl:0; finite_difference(::Calculu...\n",
       "           10  ...src/derivative.jl:0; derivative(::Function, ::Sy...\n",
       "           6   ...ite_difference.jl:0; finite_difference_hessian(:...\n",
       "          7   .../src/derivative.jl:0; second_derivative(::Function...\n"
      ]
     },
     "execution_count": 9,
     "metadata": {},
     "output_type": "execute_result"
    }
   ],
   "source": [
    "tr = tree(pd)"
   ]
  },
  {
   "cell_type": "markdown",
   "metadata": {},
   "source": [
    "Like `flat` reports, trees can be aggregated by `:specialization, :method, :file, :function`, or `:module`:"
   ]
  },
  {
   "cell_type": "code",
   "execution_count": 10,
   "metadata": {},
   "outputs": [
    {
     "data": {
      "text/plain": [
       " 942 IJulia\n",
       "  942 Compat\n",
       "   942 Base\n",
       "    942 FProfile.MissingInfo\n",
       "     939 Calculus\n",
       "      56 FProfile.MissingInfo\n"
      ]
     },
     "execution_count": 10,
     "metadata": {},
     "output_type": "execute_result"
    }
   ],
   "source": [
    "tree(pd, combineby=:module)"
   ]
  },
  {
   "cell_type": "markdown",
   "metadata": {},
   "source": [
    "If you're only interested in a particular module/file/method/function, you can pass it to `tree`, along with an optional _neighborhood range_."
   ]
  },
  {
   "cell_type": "code",
   "execution_count": 11,
   "metadata": {},
   "outputs": [
    {
     "data": {
      "text/plain": [
       " 939 ...rofile/src/FProfile.jl:68; FProfile.MissingInfo.missing_info\n",
       "  932 ...lus/src/derivative.jl:71; second_derivative(::Function, ::F...\n",
       "   473 ...lus/src/derivative.jl:3; derivative(::Function, ::Symbol,...\n",
       "   188 .../finite_difference.jl:224; finite_difference_hessian(::Func...\n",
       "   10  ...lus/src/derivative.jl:0; derivative(::Function, ::Symbol,...\n",
       "   6   .../finite_difference.jl:0; finite_difference_hessian(::Func...\n",
       "  7   ...lus/src/derivative.jl:0; second_derivative(::Function, ::F...\n"
      ]
     },
     "execution_count": 11,
     "metadata": {},
     "output_type": "execute_result"
    }
   ],
   "source": [
    "tr_deriv = tree(pd, second_derivative, -1:1)    # -1:1 = show one level of callers and one level of called functions"
   ]
  },
  {
   "cell_type": "markdown",
   "metadata": {},
   "source": [
    "Trees are an indexable, prunable (use `prune(tree, depth)`) and filterable datastructure. Use the accessors (see above) and `is_inline/is_C_call` in your `filter` predicate."
   ]
  },
  {
   "cell_type": "markdown",
   "metadata": {},
   "source": [
    "# ProfileView integration\n",
    "\n",
    "`ProfileData` objects can be passed to `ProfileView.view`. See [ProfileView.jl](https://github.com/timholy/ProfileView.jl) for details.\n",
    "\n",
    "```julia\n",
    "using ProfileView\n",
    "pd = @fprofile ...\n",
    "ProfileView.view(pd)\n",
    "```"
   ]
  },
  {
   "cell_type": "markdown",
   "metadata": {},
   "source": [
    "# Backtraces\n",
    "\n",
    "(if you want to build your own analysis)\n",
    "\n",
    "The raw profiler data is available either through `Base.Profile.retrieve()`, or through `pd.data` and `pd.lidict`. However, you might find `FProfile.backtraces(::ProfileData)` more immediately useful. "
   ]
  },
  {
   "cell_type": "code",
   "execution_count": 15,
   "metadata": {},
   "outputs": [
    {
     "name": "stdout",
     "output_type": "stream",
     "text": [
      "count = 1\n"
     ]
    },
    {
     "data": {
      "text/plain": [
       "11-element Array{StackFrame,1}:\n",
       " (::IJulia.##14#17)() at task.jl:335                                  \n",
       " eventloop(::ZMQ.Socket) at eventloop.jl:8                            \n",
       " execute_request(::ZMQ.Socket, ::IJulia.Msg) at execute_request.jl:154\n",
       " include_string(::Module, ::String, ::String) at Compat.jl:464        \n",
       " include_string(::String, ::String) at loading.jl:515                 \n",
       " anonymous at <missing>:?                                             \n",
       " macro expansion at FProfile.jl:53 [inlined]                          \n",
       " macro expansion at profile.jl:23 [inlined]                           \n",
       " macro expansion at FProfile.jl:68 [inlined]                          \n",
       " second_derivative(::Function, ::Float64) at derivative.jl:71         \n",
       " derivative(::Function, ::Symbol, ::Symbol) at derivative.jl:3        "
      ]
     },
     "execution_count": 15,
     "metadata": {},
     "output_type": "execute_result"
    }
   ],
   "source": [
    "count, trace = backtraces(pd)[1]  # get the first unique backtrace\n",
    "@show count                       # the number of times that trace occurs in the raw data\n",
    "trace"
   ]
  },
  {
   "cell_type": "markdown",
   "metadata": {},
   "source": [
    "Use the `get_method, get_file, ...` functions on `StackFrame` objects (see above). `tree(pd::ProfileData)` is defined as `tree(backtraces(pd))`, and similarly for `flat`, so you can modify the backtraces and get a tree/flat view of the results."
   ]
  }
 ],
 "metadata": {
  "kernelspec": {
   "display_name": "Julia 0.6.0 (Programa)",
   "language": "julia",
   "name": "julia-0.6-programa"
  },
  "language_info": {
   "file_extension": ".jl",
   "mimetype": "application/julia",
   "name": "julia",
   "version": "0.6.0"
  }
 },
 "nbformat": 4,
 "nbformat_minor": 2
}
