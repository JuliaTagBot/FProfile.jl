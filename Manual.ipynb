{
 "cells": [
  {
   "cell_type": "code",
   "execution_count": 1,
   "metadata": {
    "collapsed": true
   },
   "outputs": [],
   "source": [
    "using Revise\n"
   ]
  },
  {
   "cell_type": "markdown",
   "metadata": {},
   "source": [
    "[FProfile.jl](https://github.com/cstjean/FProfile.jl) provides an alternative interface for [Julia's sampling profiler](https://docs.julialang.org/en/latest/manual/profile/). Please read the introduction of that document before proceeding if you've never used `@profile`.\n",
    "\n",
    "# Profiling\n",
    "\n",
    "You can build a profile by calling `@fprofile(code, delay=0.001, n_samples=1000000)`:"
   ]
  },
  {
   "cell_type": "code",
   "execution_count": 2,
   "metadata": {},
   "outputs": [
    {
     "name": "stderr",
     "output_type": "stream",
     "text": [
      "\u001b[1m\u001b[36mINFO: \u001b[39m\u001b[22m\u001b[36mRecompiling stale cache file /Users/cedric/.julia/lib/v0.6/FProfile.ji for module FProfile.\n",
      "\u001b[39m"
     ]
    },
    {
     "data": {
      "text/plain": [
       "ProfileData(44 backtraces)"
      ]
     },
     "execution_count": 2,
     "metadata": {},
     "output_type": "execute_result"
    }
   ],
   "source": [
    "using FProfile, Calculus\n",
    "\n",
    "pd = @fprofile second_derivative(sin, 1.0)"
   ]
  },
  {
   "cell_type": "markdown",
   "metadata": {},
   "source": [
    "`@fprofile(N, ...)` is shorthand for `@fprofile(for _ in 1:N ... end)`:"
   ]
  },
  {
   "cell_type": "code",
   "execution_count": 3,
   "metadata": {},
   "outputs": [
    {
     "data": {
      "text/plain": [
       "ProfileData(977 backtraces)"
      ]
     },
     "execution_count": 3,
     "metadata": {},
     "output_type": "execute_result"
    }
   ],
   "source": [
    "pd = @fprofile 1000000 second_derivative(sin, 1.0)"
   ]
  },
  {
   "cell_type": "markdown",
   "metadata": {},
   "source": [
    "`ProfileData` merely wraps the internal data in `Base.Profile`. Do not forget that Julia compiles code the first time a function is run; if you do not want to measure compilation time, execute your code once before profiling."
   ]
  },
  {
   "cell_type": "markdown",
   "metadata": {},
   "source": [
    "# Flat view\n",
    "\n",
    "FProfile's `flat` report is a [dataframe](http://juliadata.github.io/DataFrames.jl/stable/man/getting_started/#Getting-Started-1), however no particular knowledge of dataframes is necessary. I'll provide a few common operations below."
   ]
  },
  {
   "cell_type": "code",
   "execution_count": 4,
   "metadata": {},
   "outputs": [
    {
     "data": {
      "text/html": [
       "<table class=\"data-frame\"><thead><tr><th></th><th>count_percent</th><th>stackframe</th><th>specialization</th><th>method</th><th>file</th><th>function</th><th>module</th></tr></thead><tbody><tr><th>1</th><td>99.9</td><td>execute_request(::ZMQ.Socket, ::IJulia.Msg) at execute_request.jl:154</td><td>MethodInstance for execute_request(::ZMQ.Socket, ::IJulia.Msg)</td><td>execute_request(socket, msg) in IJulia at /Users/cedric/.julia/v0.6/IJulia/src/execute_request.jl:115</td><td>/Users/cedric/.julia/v0.6/IJulia/src/execute_request.jl</td><td>IJulia.execute_request</td><td>IJulia</td></tr><tr><th>2</th><td>99.9</td><td>anonymous at &lt;missing&gt;:?</td><td>MethodInstance for missing_info()</td><td>missing_info() in FProfile at /Users/cedric/.julia/v0.6/FProfile/src/FProfile.jl:373</td><td>/Users/cedric/.julia/v0.6/FProfile/src/FProfile.jl</td><td>FProfile.missing_info</td><td>FProfile</td></tr><tr><th>3</th><td>99.9</td><td>(::IJulia.##14#17)() at task.jl:335</td><td>MethodInstance for (::IJulia.##14#17)()</td><td>(::IJulia.##14#17)() in IJulia at task.jl:335</td><td>task.jl</td><td>IJulia.#14</td><td>IJulia</td></tr><tr><th>4</th><td>99.9</td><td>eventloop(::ZMQ.Socket) at eventloop.jl:8</td><td>MethodInstance for eventloop(::ZMQ.Socket)</td><td>eventloop(socket) in IJulia at /Users/cedric/.julia/v0.6/IJulia/src/eventloop.jl:2</td><td>/Users/cedric/.julia/v0.6/IJulia/src/eventloop.jl</td><td>IJulia.eventloop</td><td>IJulia</td></tr><tr><th>5</th><td>99.9</td><td>macro expansion at FProfile.jl:40 [inlined]</td><td>MethodInstance for missing_info()</td><td>missing_info() in FProfile at /Users/cedric/.julia/v0.6/FProfile/src/FProfile.jl:373</td><td>/Users/cedric/.julia/v0.6/FProfile/src/FProfile.jl</td><td>FProfile.missing_info</td><td>FProfile</td></tr></tbody></table>"
      ],
      "text/plain": [
       "5×7 DataFrames.DataFrame\n",
       "│ Row │ count_percent │\n",
       "├─────┼───────────────┤\n",
       "│ 1   │ 99.9          │\n",
       "│ 2   │ 99.9          │\n",
       "│ 3   │ 99.9          │\n",
       "│ 4   │ 99.9          │\n",
       "│ 5   │ 99.9          │\n",
       "\n",
       "│ Row │ stackframe                                                            │\n",
       "├─────┼───────────────────────────────────────────────────────────────────────┤\n",
       "│ 1   │ execute_request(::ZMQ.Socket, ::IJulia.Msg) at execute_request.jl:154 │\n",
       "│ 2   │ anonymous at <missing>:?                                              │\n",
       "│ 3   │ (::IJulia.##14#17)() at task.jl:335                                   │\n",
       "│ 4   │ eventloop(::ZMQ.Socket) at eventloop.jl:8                             │\n",
       "│ 5   │ macro expansion at FProfile.jl:40 [inlined]                           │\n",
       "\n",
       "│ Row │ specialization                                                 │\n",
       "├─────┼────────────────────────────────────────────────────────────────┤\n",
       "│ 1   │ MethodInstance for execute_request(::ZMQ.Socket, ::IJulia.Msg) │\n",
       "│ 2   │ MethodInstance for missing_info()                              │\n",
       "│ 3   │ MethodInstance for (::IJulia.##14#17)()                        │\n",
       "│ 4   │ MethodInstance for eventloop(::ZMQ.Socket)                     │\n",
       "│ 5   │ MethodInstance for missing_info()                              │\n",
       "\n",
       "│ Row │ method                                                                                                │\n",
       "├─────┼───────────────────────────────────────────────────────────────────────────────────────────────────────┤\n",
       "│ 1   │ execute_request(socket, msg) in IJulia at /Users/cedric/.julia/v0.6/IJulia/src/execute_request.jl:115 │\n",
       "│ 2   │ missing_info() in FProfile at /Users/cedric/.julia/v0.6/FProfile/src/FProfile.jl:373                  │\n",
       "│ 3   │ (::IJulia.##14#17)() in IJulia at task.jl:335                                                         │\n",
       "│ 4   │ eventloop(socket) in IJulia at /Users/cedric/.julia/v0.6/IJulia/src/eventloop.jl:2                    │\n",
       "│ 5   │ missing_info() in FProfile at /Users/cedric/.julia/v0.6/FProfile/src/FProfile.jl:373                  │\n",
       "\n",
       "│ Row │ file                                                    │\n",
       "├─────┼─────────────────────────────────────────────────────────┤\n",
       "│ 1   │ /Users/cedric/.julia/v0.6/IJulia/src/execute_request.jl │\n",
       "│ 2   │ /Users/cedric/.julia/v0.6/FProfile/src/FProfile.jl      │\n",
       "│ 3   │ task.jl                                                 │\n",
       "│ 4   │ /Users/cedric/.julia/v0.6/IJulia/src/eventloop.jl       │\n",
       "│ 5   │ /Users/cedric/.julia/v0.6/FProfile/src/FProfile.jl      │\n",
       "\n",
       "│ Row │ function               │ module   │\n",
       "├─────┼────────────────────────┼──────────┤\n",
       "│ 1   │ IJulia.execute_request │ IJulia   │\n",
       "│ 2   │ FProfile.missing_info  │ FProfile │\n",
       "│ 3   │ IJulia.#14             │ IJulia   │\n",
       "│ 4   │ IJulia.eventloop       │ IJulia   │\n",
       "│ 5   │ FProfile.missing_info  │ FProfile │"
      ]
     },
     "execution_count": 4,
     "metadata": {},
     "output_type": "execute_result"
    }
   ],
   "source": [
    "using DataFrames\n",
    "\n",
    "df = flat(pd)\n",
    "head(df, 5)   # show only the first 5 rows (the 5 rows with the highest count)"
   ]
  },
  {
   "cell_type": "markdown",
   "metadata": {},
   "source": [
    "The first column shows what fraction of backtraces (in %) go through the `method at file:line_number` in the `stackframe` column. It's the same quantity as in `Base.Profile.print()`, except for recursive calls: if `f(1)` calls `f(0)`, that's 2 counts in Base's report, but only 1 count in FProfile.\n",
    "\n",
    "The other columns unpack the `stackframe`; they are useful for selecting subsets of the table. For instance, if I only care about the `derivative` function, I might use\n",
    "\n",
    "```julia\n",
    "    df[df[:function].===derivative, :]\n",
    "```\n",
    "\n",
    "It is common to focus optimization efforts on one or more modules at a time (... the ones you're developing). `flat(pd, MyModule)` filters out other modules and adds a useful column: `end_count_percent` measures how much `MyModule`-specific work is done on that line.\n",
    "\n",
    "For instance, in the code below, while the `do_computation()` call takes a long time (it has a high `count_percent`), it merely calls another `Main` function, so it has a low `end_count_percent`. `sum_of_sin` has `end_count_percent = 100%` because while it calls `sum` and `sin`, those are defined in another module (`Base`), and counted as external to `Main`.\n",
    "\n",
    "`flat(pd, (Module1, Module2, ...))` is also accepted."
   ]
  },
  {
   "cell_type": "code",
   "execution_count": 5,
   "metadata": {},
   "outputs": [
    {
     "name": "stderr",
     "output_type": "stream",
     "text": [
      "\u001b[1m\u001b[33mWARNING: \u001b[39m\u001b[22m\u001b[33mfailure to evaluate changes in FProfile\u001b[39m\n",
      "Core.@doc \" `Node(object, count::Int, children::Vector{Node})` represents the `tree`\\nview of the profiling data. \" mutable struct Node # /Users/cedric/.julia/v0.6/FProfile/src/FProfile.jl, line 166:\n",
      "        obj # /Users/cedric/.julia/v0.6/FProfile/src/FProfile.jl, line 167:\n",
      "        count::Int # /Users/cedric/.julia/v0.6/FProfile/src/FProfile.jl, line 168:\n",
      "        children::Vector{Node}\n",
      "    end\n"
     ]
    },
    {
     "data": {
      "text/html": [
       "<table class=\"data-frame\"><thead><tr><th></th><th>count_percent</th><th>end_count_percent</th><th>stackframe</th><th>specialization</th><th>method</th><th>file</th><th>function</th><th>module</th></tr></thead><tbody><tr><th>1</th><td>100.0</td><td>0.0</td><td>do_computation(::Int64) at In[5]:1</td><td>MethodInstance for do_computation(::Int64)</td><td>do_computation(n) in Main at In[5]:1</td><td>In[5]</td><td>do_computation</td><td>Main</td></tr><tr><th>2</th><td>100.0</td><td>100.0</td><td>sum_of_sin(::Int64) at In[5]:2</td><td>MethodInstance for sum_of_sin(::Int64)</td><td>sum_of_sin(n) in Main at In[5]:2</td><td>In[5]</td><td>sum_of_sin</td><td>Main</td></tr></tbody></table>"
      ],
      "text/plain": [
       "2×8 DataFrames.DataFrame\n",
       "│ Row │ count_percent │ end_count_percent │ stackframe                         │\n",
       "├─────┼───────────────┼───────────────────┼────────────────────────────────────┤\n",
       "│ 1   │ 100.0         │ 0.0               │ do_computation(::Int64) at In[5]:1 │\n",
       "│ 2   │ 100.0         │ 100.0             │ sum_of_sin(::Int64) at In[5]:2     │\n",
       "\n",
       "│ Row │ specialization                             │\n",
       "├─────┼────────────────────────────────────────────┤\n",
       "│ 1   │ MethodInstance for do_computation(::Int64) │\n",
       "│ 2   │ MethodInstance for sum_of_sin(::Int64)     │\n",
       "\n",
       "│ Row │ method                               │ file  │ function       │ module │\n",
       "├─────┼──────────────────────────────────────┼───────┼────────────────┼────────┤\n",
       "│ 1   │ do_computation(n) in Main at In[5]:1 │ In[5] │ do_computation │ Main   │\n",
       "│ 2   │ sum_of_sin(n) in Main at In[5]:2     │ In[5] │ sum_of_sin     │ Main   │"
      ]
     },
     "execution_count": 5,
     "metadata": {},
     "output_type": "execute_result"
    }
   ],
   "source": [
    "@noinline do_computation(n) = sum_of_sin(n)\n",
    "@noinline sum_of_sin(n) = sum(sin, 1:n)\n",
    "pd2 = @fprofile do_computation(10000000)\n",
    "flat(pd2, Main)"
   ]
  },
  {
   "cell_type": "markdown",
   "metadata": {},
   "source": [
    "It pays to make sure that functions with a high `end_count_percent` are [well optimized](https://docs.julialang.org/en/latest/manual/performance-tips/).\n",
    "\n",
    "Another way to reduce the level of detail is to aggregate by `:specialization, :method, :file, :function`, or `:module`."
   ]
  },
  {
   "cell_type": "code",
   "execution_count": 6,
   "metadata": {},
   "outputs": [
    {
     "data": {
      "text/html": [
       "<table class=\"data-frame\"><thead><tr><th></th><th>count_percent</th><th>method</th><th>file</th><th>function</th><th>module</th></tr></thead><tbody><tr><th>1</th><td>99.9</td><td>(::IJulia.##14#17)() in IJulia at task.jl:335</td><td>task.jl</td><td>IJulia.#14</td><td>IJulia</td></tr><tr><th>2</th><td>99.9</td><td>execute_request(socket, msg) in IJulia at /Users/cedric/.julia/v0.6/IJulia/src/execute_request.jl:115</td><td>/Users/cedric/.julia/v0.6/IJulia/src/execute_request.jl</td><td>IJulia.execute_request</td><td>IJulia</td></tr><tr><th>3</th><td>99.9</td><td>include_string(mod::Module, code::String, fname::String) in Compat at /Users/cedric/.julia/v0.6/Compat/src/Compat.jl:464</td><td>/Users/cedric/.julia/v0.6/Compat/src/Compat.jl</td><td>include_string</td><td>Compat</td></tr><tr><th>4</th><td>99.9</td><td>missing_info() in FProfile at /Users/cedric/.julia/v0.6/FProfile/src/FProfile.jl:373</td><td>/Users/cedric/.julia/v0.6/FProfile/src/FProfile.jl</td><td>FProfile.missing_info</td><td>FProfile</td></tr><tr><th>5</th><td>99.9</td><td>eventloop(socket) in IJulia at /Users/cedric/.julia/v0.6/IJulia/src/eventloop.jl:2</td><td>/Users/cedric/.julia/v0.6/IJulia/src/eventloop.jl</td><td>IJulia.eventloop</td><td>IJulia</td></tr><tr><th>6</th><td>99.9</td><td>include_string(txt::String, fname::String) in Base at loading.jl:515</td><td>loading.jl</td><td>include_string</td><td>Base</td></tr><tr><th>7</th><td>99.49</td><td>second_derivative(f::Function, x::Number) in Calculus at /Users/cedric/.julia/v0.6/Calculus/src/derivative.jl:71</td><td>/Users/cedric/.julia/v0.6/Calculus/src/derivative.jl</td><td>Calculus.second_derivative</td><td>Calculus</td></tr><tr><th>8</th><td>54.04</td><td>derivative(f::Function, ftype::Symbol, dtype::Symbol) in Calculus at /Users/cedric/.julia/v0.6/Calculus/src/derivative.jl:2</td><td>/Users/cedric/.julia/v0.6/Calculus/src/derivative.jl</td><td>Calculus.derivative</td><td>Calculus</td></tr><tr><th>9</th><td>19.75</td><td>finite_difference_hessian(f::Function, g::Function, x::Number, dtype::Symbol) in Calculus at /Users/cedric/.julia/v0.6/Calculus/src/finite_difference.jl:224</td><td>/Users/cedric/.julia/v0.6/Calculus/src/finite_difference.jl</td><td>Calculus.finite_difference_hessian</td><td>Calculus</td></tr><tr><th>10</th><td>16.99</td><td>finite_difference(f::Function, x::T, dtype::Symbol) where T&lt;:Number in Calculus at /Users/cedric/.julia/v0.6/Calculus/src/finite_difference.jl:48</td><td>/Users/cedric/.julia/v0.6/Calculus/src/finite_difference.jl</td><td>Calculus.finite_difference</td><td>Calculus</td></tr></tbody></table>"
      ],
      "text/plain": [
       "10×5 DataFrames.DataFrame\n",
       "│ Row │ count_percent │\n",
       "├─────┼───────────────┤\n",
       "│ 1   │ 99.9          │\n",
       "│ 2   │ 99.9          │\n",
       "│ 3   │ 99.9          │\n",
       "│ 4   │ 99.9          │\n",
       "│ 5   │ 99.9          │\n",
       "│ 6   │ 99.9          │\n",
       "│ 7   │ 99.49         │\n",
       "│ 8   │ 54.04         │\n",
       "│ 9   │ 19.75         │\n",
       "│ 10  │ 16.99         │\n",
       "\n",
       "│ Row │ method                                                                                                                                                       │\n",
       "├─────┼──────────────────────────────────────────────────────────────────────────────────────────────────────────────────────────────────────────────────────────────┤\n",
       "│ 1   │ (::IJulia.##14#17)() in IJulia at task.jl:335                                                                                                                │\n",
       "│ 2   │ execute_request(socket, msg) in IJulia at /Users/cedric/.julia/v0.6/IJulia/src/execute_request.jl:115                                                        │\n",
       "│ 3   │ include_string(mod::Module, code::String, fname::String) in Compat at /Users/cedric/.julia/v0.6/Compat/src/Compat.jl:464                                     │\n",
       "│ 4   │ missing_info() in FProfile at /Users/cedric/.julia/v0.6/FProfile/src/FProfile.jl:373                                                                         │\n",
       "│ 5   │ eventloop(socket) in IJulia at /Users/cedric/.julia/v0.6/IJulia/src/eventloop.jl:2                                                                           │\n",
       "│ 6   │ include_string(txt::String, fname::String) in Base at loading.jl:515                                                                                         │\n",
       "│ 7   │ second_derivative(f::Function, x::Number) in Calculus at /Users/cedric/.julia/v0.6/Calculus/src/derivative.jl:71                                             │\n",
       "│ 8   │ derivative(f::Function, ftype::Symbol, dtype::Symbol) in Calculus at /Users/cedric/.julia/v0.6/Calculus/src/derivative.jl:2                                  │\n",
       "│ 9   │ finite_difference_hessian(f::Function, g::Function, x::Number, dtype::Symbol) in Calculus at /Users/cedric/.julia/v0.6/Calculus/src/finite_difference.jl:224 │\n",
       "│ 10  │ finite_difference(f::Function, x::T, dtype::Symbol) where T<:Number in Calculus at /Users/cedric/.julia/v0.6/Calculus/src/finite_difference.jl:48            │\n",
       "\n",
       "│ Row │ file                                                        │\n",
       "├─────┼─────────────────────────────────────────────────────────────┤\n",
       "│ 1   │ task.jl                                                     │\n",
       "│ 2   │ /Users/cedric/.julia/v0.6/IJulia/src/execute_request.jl     │\n",
       "│ 3   │ /Users/cedric/.julia/v0.6/Compat/src/Compat.jl              │\n",
       "│ 4   │ /Users/cedric/.julia/v0.6/FProfile/src/FProfile.jl          │\n",
       "│ 5   │ /Users/cedric/.julia/v0.6/IJulia/src/eventloop.jl           │\n",
       "│ 6   │ loading.jl                                                  │\n",
       "│ 7   │ /Users/cedric/.julia/v0.6/Calculus/src/derivative.jl        │\n",
       "│ 8   │ /Users/cedric/.julia/v0.6/Calculus/src/derivative.jl        │\n",
       "│ 9   │ /Users/cedric/.julia/v0.6/Calculus/src/finite_difference.jl │\n",
       "│ 10  │ /Users/cedric/.julia/v0.6/Calculus/src/finite_difference.jl │\n",
       "\n",
       "│ Row │ function                           │ module   │\n",
       "├─────┼────────────────────────────────────┼──────────┤\n",
       "│ 1   │ IJulia.#14                         │ IJulia   │\n",
       "│ 2   │ IJulia.execute_request             │ IJulia   │\n",
       "│ 3   │ include_string                     │ Compat   │\n",
       "│ 4   │ FProfile.missing_info              │ FProfile │\n",
       "│ 5   │ IJulia.eventloop                   │ IJulia   │\n",
       "│ 6   │ include_string                     │ Base     │\n",
       "│ 7   │ Calculus.second_derivative         │ Calculus │\n",
       "│ 8   │ Calculus.derivative                │ Calculus │\n",
       "│ 9   │ Calculus.finite_difference_hessian │ Calculus │\n",
       "│ 10  │ Calculus.finite_difference         │ Calculus │"
      ]
     },
     "execution_count": 6,
     "metadata": {},
     "output_type": "execute_result"
    }
   ],
   "source": [
    "df_by_method = flat(pd, combineby=:method)"
   ]
  },
  {
   "cell_type": "markdown",
   "metadata": {},
   "source": [
    "You can see the context (caller/called functions) around each of these rows by passing it to `tree`:"
   ]
  },
  {
   "cell_type": "code",
   "execution_count": 18,
   "metadata": {},
   "outputs": [
    {
     "data": {
      "text/plain": [
       " 192 ...ulus/src/derivative.jl:71; second_derivative(::Function, ::F...\n",
       "  4   .../finite_difference.jl:0; finite_difference_hessian(::Func...\n",
       "  188 .../finite_difference.jl:224; finite_difference_hessian(::Func...\n",
       "   5   .../finite_difference.jl:0; finite_difference(::Calculus.##1...\n",
       "   23  .../finite_difference.jl:27; finite_difference(::Calculus.##1...\n",
       "   138 .../finite_difference.jl:55; finite_difference(::Calculus.##1...\n",
       " 1   ...c/finite_difference.jl:0; finite_difference_hessian(::Funct...\n"
      ]
     },
     "execution_count": 18,
     "metadata": {},
     "output_type": "execute_result"
    }
   ],
   "source": [
    "tree(pd, df_by_method, 9)   # show the context of the 9th row of `df_by_method`"
   ]
  },
  {
   "cell_type": "markdown",
   "metadata": {},
   "source": [
    "Other useful dataframe commands:\n",
    "\n",
    "```julia\n",
    "df[[:count_percent, :method]]   # select only those two columns\n",
    "sort(df, cols=:end_count_percent, rev=true)  # sort by end_count_percent\n",
    "showall(df)   # show the whole dataframe\n",
    "```\n",
    "\n",
    "See `?flat` for more options."
   ]
  },
  {
   "cell_type": "markdown",
   "metadata": {},
   "source": [
    "# Tree view\n",
    "\n",
    "FProfile's tree view looks the same as `Base.Profile.print(format=:tree)`. The numbers represent raw counts. (If some branches seem out of place, see [this issue](https://github.com/JuliaLang/julia/issues/9689))"
   ]
  },
  {
   "cell_type": "code",
   "execution_count": 19,
   "metadata": {},
   "outputs": [
    {
     "data": {
      "text/plain": [
       " 976 ./task.jl:335; (::IJulia.##14#17)()\n",
       "  976 ...Julia/src/eventloop.jl:8; eventloop(::ZMQ.Socket)\n",
       "   976 ...rc/execute_request.jl:154; execute_request(::ZMQ.Socket, ::...\n",
       "    976 ...Compat/src/Compat.jl:464; include_string(::Module, ::Stri...\n",
       "     976 ./loading.jl:515; include_string(::String, ::String)\n",
       "      976 ./<missing>:?; anonymous\n",
       "       976 ...ile/src/FProfile.jl:40; macro expansion\n",
       "        976 ./profile.jl:23; macro expansion\n",
       "         975 ...ile/src/FProfile.jl:55; macro expansion\n",
       "          2   .../src/derivative.jl:0; second_derivative(::Function...\n",
       "          970 .../src/derivative.jl:71; second_derivative(::Function...\n",
       "           4   ...src/derivative.jl:0; derivative(::Function, ::Sy...\n",
       "           1   ...src/derivative.jl:2; derivative(::Function, ::Sy...\n",
       "           523 ...src/derivative.jl:3; derivative(::Function, ::Sy...\n",
       "           4   ...ite_difference.jl:0; finite_difference_hessian(:...\n",
       "           188 ...ite_difference.jl:224; finite_difference_hessian(:...\n",
       "            5   ...ite_difference.jl:0; finite_difference(::Calculu...\n",
       "            23  ...ite_difference.jl:27; finite_difference(::Calculu...\n",
       "            138 ...ite_difference.jl:55; finite_difference(::Calculu...\n",
       "             6  ./math.jl:300; finite_difference(::Base.#...\n",
       "             3  ...ite_difference.jl:0; finite_difference(::Base.#...\n",
       "             29 ...ite_difference.jl:27; finite_difference(::Base.#...\n",
       "             1  ...ite_difference.jl:48; finite_difference(::Base.#...\n",
       "             1  ...ite_difference.jl:54; finite_difference(::Base.#...\n",
       "             80 ...ite_difference.jl:55; finite_difference(::Base.#...\n",
       "              65 ./math.jl:419; sin\n",
       "               1 ./math.jl:300; nan_dom_err\n",
       " 1   .../finite_difference.jl:0; finite_difference_hessian(::Funct...\n"
      ]
     },
     "execution_count": 19,
     "metadata": {},
     "output_type": "execute_result"
    }
   ],
   "source": [
    "tr = tree(pd)"
   ]
  },
  {
   "cell_type": "markdown",
   "metadata": {},
   "source": [
    "If you're interested in a particular module/file/method/function, you can pass it to `tree`, along with an optional _neighborhood range_."
   ]
  },
  {
   "cell_type": "code",
   "execution_count": 20,
   "metadata": {},
   "outputs": [
    {
     "data": {
      "text/plain": [
       " 972 ...rofile/src/FProfile.jl:55; macro expansion\n",
       "  2   ...lus/src/derivative.jl:0; second_derivative(::Function, ::F...\n",
       "  970 ...lus/src/derivative.jl:71; second_derivative(::Function, ::F...\n",
       "   4   ...lus/src/derivative.jl:0; derivative(::Function, ::Symbol,...\n",
       "   1   ...lus/src/derivative.jl:2; derivative(::Function, ::Symbol,...\n",
       "   523 ...lus/src/derivative.jl:3; derivative(::Function, ::Symbol,...\n",
       "   4   .../finite_difference.jl:0; finite_difference_hessian(::Func...\n",
       "   188 .../finite_difference.jl:224; finite_difference_hessian(::Func...\n"
      ]
     },
     "execution_count": 20,
     "metadata": {},
     "output_type": "execute_result"
    }
   ],
   "source": [
    "tr_deriv = tree(pd, second_derivative, -1:1)    # -1:1 = show one level of callers and one level of called functions"
   ]
  },
  {
   "cell_type": "markdown",
   "metadata": {},
   "source": [
    "Trees are an indexable and filterable datastructure. Use `get_specialization, get_method, get_file, get_function, get_module, is_C_call` and `is_inlined` in your `filter` predicate."
   ]
  },
  {
   "cell_type": "code",
   "execution_count": 21,
   "metadata": {},
   "outputs": [
    {
     "data": {
      "text/plain": [
       "2 ...culus/src/derivative.jl:0; second_derivative(::Function, ::Float64)\n"
      ]
     },
     "execution_count": 21,
     "metadata": {},
     "output_type": "execute_result"
    }
   ],
   "source": [
    "tr_deriv[1,1]"
   ]
  },
  {
   "cell_type": "markdown",
   "metadata": {},
   "source": [
    "# Backtraces\n",
    "\n",
    "(if you want to build your own analysis)\n",
    "\n",
    "The raw Profile data is available either through `Base.Profile.retrieve()`, or through `pd.data` and `pd.lidict`. However, you might find `FProfile.backtraces(::ProfileData)` more immediately useful. "
   ]
  },
  {
   "cell_type": "code",
   "execution_count": 12,
   "metadata": {},
   "outputs": [
    {
     "name": "stdout",
     "output_type": "stream",
     "text": [
      "count = 1\n"
     ]
    },
    {
     "data": {
      "text/plain": [
       "11-element Array{StackFrame,1}:\n",
       " (::IJulia.##14#17)() at task.jl:335                                  \n",
       " eventloop(::ZMQ.Socket) at eventloop.jl:8                            \n",
       " execute_request(::ZMQ.Socket, ::IJulia.Msg) at execute_request.jl:154\n",
       " include_string(::Module, ::String, ::String) at Compat.jl:464        \n",
       " include_string(::String, ::String) at loading.jl:515                 \n",
       " anonymous at <missing>:?                                             \n",
       " macro expansion at FProfile.jl:40 [inlined]                          \n",
       " macro expansion at profile.jl:23 [inlined]                           \n",
       " macro expansion at FProfile.jl:55 [inlined]                          \n",
       " second_derivative(::Function, ::Float64) at derivative.jl:71         \n",
       " derivative(::Function, ::Symbol, ::Symbol) at derivative.jl:3        "
      ]
     },
     "execution_count": 12,
     "metadata": {},
     "output_type": "execute_result"
    }
   ],
   "source": [
    "count, trace = backtraces(pd)[1]  # get the first unique backtrace\n",
    "@show count                       # the number of times that trace occurs in the raw data\n",
    "trace"
   ]
  },
  {
   "cell_type": "markdown",
   "metadata": {},
   "source": [
    "Use the `get_method, get_file, ...` functions on `StackFrame` objects (see above). `tree(pd::ProfileData)` is defined as `tree(backtraces(pd))`, and similarly for `flat`, so you can modify the backtraces and get a tree/flat view of the results."
   ]
  }
 ],
 "metadata": {
  "kernelspec": {
   "display_name": "Julia 0.6.0 (Programa)",
   "language": "julia",
   "name": "julia-0.6-programa"
  },
  "language_info": {
   "file_extension": ".jl",
   "mimetype": "application/julia",
   "name": "julia",
   "version": "0.6.0"
  }
 },
 "nbformat": 4,
 "nbformat_minor": 2
}
