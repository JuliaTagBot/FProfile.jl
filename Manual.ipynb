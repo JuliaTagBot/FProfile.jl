{
 "cells": [
  {
   "cell_type": "markdown",
   "metadata": {},
   "source": [
    "[FProfile.jl](https://github.com/cstjean/FProfile.jl) provides an alternative interface for [Julia's sampling profiler](https://docs.julialang.org/en/latest/manual/profile/). Please read the introduction of that document before proceeding if you've never used `@profile`.\n",
    "\n",
    "# Profiling\n",
    "\n",
    "You can build a profile by calling `@fprofile(code, delay=0.001, n_samples=1000000)`:"
   ]
  },
  {
   "cell_type": "code",
   "execution_count": 1,
   "metadata": {},
   "outputs": [
    {
     "data": {
      "text/plain": [
       "ProfileData(40 backtraces)"
      ]
     },
     "execution_count": 1,
     "metadata": {},
     "output_type": "execute_result"
    }
   ],
   "source": [
    "using FProfile, Calculus\n",
    "\n",
    "pd = @fprofile second_derivative(sin, 1.0)"
   ]
  },
  {
   "cell_type": "markdown",
   "metadata": {},
   "source": [
    "`@fprofile(N, ...)` is shorthand for `@fprofile(for _ in 1:N ... end)`:"
   ]
  },
  {
   "cell_type": "code",
   "execution_count": 2,
   "metadata": {},
   "outputs": [
    {
     "data": {
      "text/plain": [
       "ProfileData(920 backtraces)"
      ]
     },
     "execution_count": 2,
     "metadata": {},
     "output_type": "execute_result"
    }
   ],
   "source": [
    "pd = @fprofile 1000000 second_derivative(sin, 1.0)"
   ]
  },
  {
   "cell_type": "markdown",
   "metadata": {},
   "source": [
    "Do not forget that Julia compiles code the first time a function is run; if you do not want to measure compilation time, execute your code once before profiling."
   ]
  },
  {
   "cell_type": "markdown",
   "metadata": {},
   "source": [
    "# Flat view\n",
    "\n",
    "FProfile's `flat` report is a [dataframe](http://juliadata.github.io/DataFrames.jl/stable/man/getting_started/#Getting-Started-1). No particular knowledge of dataframes is necessary. I'll provide a few common operations below."
   ]
  },
  {
   "cell_type": "code",
   "execution_count": 3,
   "metadata": {},
   "outputs": [
    {
     "data": {
      "text/html": [
       "<table class=\"data-frame\"><thead><tr><th></th><th>count_pct</th><th>stackframe</th><th>specialization</th><th>method</th><th>file</th><th>function</th><th>module</th></tr></thead><tbody><tr><th>1</th><td>99.89</td><td>execute_request(::ZMQ.Socket, ::IJulia.Msg) at execute_request.jl:154</td><td>MethodInstance for execute_request(::ZMQ.Socket, ::IJulia.Msg)</td><td>execute_request(socket, msg) in IJulia at /Users/cedric/.julia/v0.6/IJulia/src/execute_request.jl:115</td><td>/Users/cedric/.julia/v0.6/IJulia/src/execute_request.jl</td><td>IJulia.execute_request</td><td>IJulia</td></tr><tr><th>2</th><td>99.89</td><td>anonymous at &lt;missing&gt;:?</td><td>MethodInstance for missing_info()</td><td>missing_info() in FProfile.MissingInfo at /Users/cedric/.julia/v0.6/FProfile/src/FProfile.jl:25</td><td>/Users/cedric/.julia/v0.6/FProfile/src/FProfile.jl</td><td>FProfile.MissingInfo.missing_info</td><td>FProfile.MissingInfo</td></tr><tr><th>3</th><td>99.89</td><td>macro expansion at FProfile.jl:52 [inlined]</td><td>MethodInstance for missing_info()</td><td>missing_info() in FProfile.MissingInfo at /Users/cedric/.julia/v0.6/FProfile/src/FProfile.jl:25</td><td>/Users/cedric/.julia/v0.6/FProfile/src/FProfile.jl</td><td>FProfile.MissingInfo.missing_info</td><td>FProfile.MissingInfo</td></tr><tr><th>4</th><td>99.89</td><td>(::IJulia.##14#17)() at task.jl:335</td><td>MethodInstance for (::IJulia.##14#17)()</td><td>(::IJulia.##14#17)() in IJulia at task.jl:335</td><td>task.jl</td><td>IJulia.#14</td><td>IJulia</td></tr><tr><th>5</th><td>99.89</td><td>eventloop(::ZMQ.Socket) at eventloop.jl:8</td><td>MethodInstance for eventloop(::ZMQ.Socket)</td><td>eventloop(socket) in IJulia at /Users/cedric/.julia/v0.6/IJulia/src/eventloop.jl:2</td><td>/Users/cedric/.julia/v0.6/IJulia/src/eventloop.jl</td><td>IJulia.eventloop</td><td>IJulia</td></tr></tbody></table>"
      ],
      "text/plain": [
       "5×7 DataFrames.DataFrame\n",
       "│ Row │ count_pct │\n",
       "├─────┼───────────┤\n",
       "│ 1   │ 99.89     │\n",
       "│ 2   │ 99.89     │\n",
       "│ 3   │ 99.89     │\n",
       "│ 4   │ 99.89     │\n",
       "│ 5   │ 99.89     │\n",
       "\n",
       "│ Row │ stackframe                                                            │\n",
       "├─────┼───────────────────────────────────────────────────────────────────────┤\n",
       "│ 1   │ execute_request(::ZMQ.Socket, ::IJulia.Msg) at execute_request.jl:154 │\n",
       "│ 2   │ anonymous at <missing>:?                                              │\n",
       "│ 3   │ macro expansion at FProfile.jl:52 [inlined]                           │\n",
       "│ 4   │ (::IJulia.##14#17)() at task.jl:335                                   │\n",
       "│ 5   │ eventloop(::ZMQ.Socket) at eventloop.jl:8                             │\n",
       "\n",
       "│ Row │ specialization                                                 │\n",
       "├─────┼────────────────────────────────────────────────────────────────┤\n",
       "│ 1   │ MethodInstance for execute_request(::ZMQ.Socket, ::IJulia.Msg) │\n",
       "│ 2   │ MethodInstance for missing_info()                              │\n",
       "│ 3   │ MethodInstance for missing_info()                              │\n",
       "│ 4   │ MethodInstance for (::IJulia.##14#17)()                        │\n",
       "│ 5   │ MethodInstance for eventloop(::ZMQ.Socket)                     │\n",
       "\n",
       "│ Row │ method                                                                                                │\n",
       "├─────┼───────────────────────────────────────────────────────────────────────────────────────────────────────┤\n",
       "│ 1   │ execute_request(socket, msg) in IJulia at /Users/cedric/.julia/v0.6/IJulia/src/execute_request.jl:115 │\n",
       "│ 2   │ missing_info() in FProfile.MissingInfo at /Users/cedric/.julia/v0.6/FProfile/src/FProfile.jl:25       │\n",
       "│ 3   │ missing_info() in FProfile.MissingInfo at /Users/cedric/.julia/v0.6/FProfile/src/FProfile.jl:25       │\n",
       "│ 4   │ (::IJulia.##14#17)() in IJulia at task.jl:335                                                         │\n",
       "│ 5   │ eventloop(socket) in IJulia at /Users/cedric/.julia/v0.6/IJulia/src/eventloop.jl:2                    │\n",
       "\n",
       "│ Row │ file                                                    │\n",
       "├─────┼─────────────────────────────────────────────────────────┤\n",
       "│ 1   │ /Users/cedric/.julia/v0.6/IJulia/src/execute_request.jl │\n",
       "│ 2   │ /Users/cedric/.julia/v0.6/FProfile/src/FProfile.jl      │\n",
       "│ 3   │ /Users/cedric/.julia/v0.6/FProfile/src/FProfile.jl      │\n",
       "│ 4   │ task.jl                                                 │\n",
       "│ 5   │ /Users/cedric/.julia/v0.6/IJulia/src/eventloop.jl       │\n",
       "\n",
       "│ Row │ function                          │ module               │\n",
       "├─────┼───────────────────────────────────┼──────────────────────┤\n",
       "│ 1   │ IJulia.execute_request            │ IJulia               │\n",
       "│ 2   │ FProfile.MissingInfo.missing_info │ FProfile.MissingInfo │\n",
       "│ 3   │ FProfile.MissingInfo.missing_info │ FProfile.MissingInfo │\n",
       "│ 4   │ IJulia.#14                        │ IJulia               │\n",
       "│ 5   │ IJulia.eventloop                  │ IJulia               │"
      ]
     },
     "execution_count": 3,
     "metadata": {},
     "output_type": "execute_result"
    }
   ],
   "source": [
    "using DataFrames\n",
    "\n",
    "df = flat(pd)\n",
    "head(df, 5)   # show only the first 5 rows (the 5 rows with the highest count)"
   ]
  },
  {
   "cell_type": "markdown",
   "metadata": {},
   "source": [
    "The first column shows what fraction of backtraces (in %) go through the `method at file:line_number` in the `stackframe` column. It's the same quantity as in `Base.Profile.print()`, except for recursive calls: if `f(1)` calls `f(0)`, that's 2 counts in Base's report, but only 1 count in FProfile.\n",
    "\n",
    "The other columns unpack the `stackframe`; they are useful for selecting subsets of the table. For instance, if I only care about the `derivative` function, I might use\n",
    "\n",
    "```julia\n",
    "    df[df[:function].===derivative, :]\n",
    "```\n",
    "\n",
    "It is common to focus optimization efforts on one or more modules at a time (... the ones you're developing). `flat(pd, MyModule)` filters out other modules and adds a useful column: `end_count_percent` measures how much `MyModule`-specific work is done on that line.\n",
    "\n",
    "For instance, in the code below, while the `do_computation()` call takes a long time (it has a high `count_percent`), it merely calls another `Main` function, so it has a low `end_count_percent`. `sum_of_sin` has `end_count_percent = 100%` because while it calls `sum` and `sin`, those are defined in another module (`Base`), and counted as external to `Main`.\n",
    "\n",
    "`flat(pd, (Module1, Module2, ...))` is also accepted."
   ]
  },
  {
   "cell_type": "code",
   "execution_count": 4,
   "metadata": {},
   "outputs": [
    {
     "data": {
      "text/html": [
       "<table class=\"data-frame\"><thead><tr><th></th><th>count_pct</th><th>end_count_pct</th><th>stackframe</th><th>specialization</th><th>method</th><th>file</th><th>function</th><th>module</th></tr></thead><tbody><tr><th>1</th><td>100.0</td><td>0.0</td><td>do_computation(::Int64) at In[4]:1</td><td>MethodInstance for do_computation(::Int64)</td><td>do_computation(n) in Main at In[4]:1</td><td>In[4]</td><td>do_computation</td><td>Main</td></tr><tr><th>2</th><td>100.0</td><td>100.0</td><td>sum_of_sin(::Int64) at In[4]:2</td><td>MethodInstance for sum_of_sin(::Int64)</td><td>sum_of_sin(n) in Main at In[4]:2</td><td>In[4]</td><td>sum_of_sin</td><td>Main</td></tr></tbody></table>"
      ],
      "text/plain": [
       "2×8 DataFrames.DataFrame\n",
       "│ Row │ count_pct │ end_count_pct │ stackframe                         │\n",
       "├─────┼───────────┼───────────────┼────────────────────────────────────┤\n",
       "│ 1   │ 100.0     │ 0.0           │ do_computation(::Int64) at In[4]:1 │\n",
       "│ 2   │ 100.0     │ 100.0         │ sum_of_sin(::Int64) at In[4]:2     │\n",
       "\n",
       "│ Row │ specialization                             │\n",
       "├─────┼────────────────────────────────────────────┤\n",
       "│ 1   │ MethodInstance for do_computation(::Int64) │\n",
       "│ 2   │ MethodInstance for sum_of_sin(::Int64)     │\n",
       "\n",
       "│ Row │ method                               │ file  │ function       │ module │\n",
       "├─────┼──────────────────────────────────────┼───────┼────────────────┼────────┤\n",
       "│ 1   │ do_computation(n) in Main at In[4]:1 │ In[4] │ do_computation │ Main   │\n",
       "│ 2   │ sum_of_sin(n) in Main at In[4]:2     │ In[4] │ sum_of_sin     │ Main   │"
      ]
     },
     "execution_count": 4,
     "metadata": {},
     "output_type": "execute_result"
    }
   ],
   "source": [
    "@noinline do_computation(n) = sum_of_sin(n)\n",
    "@noinline sum_of_sin(n) = sum(sin, 1:n)\n",
    "pd2 = @fprofile do_computation(10000000)\n",
    "flat(pd2, Main)"
   ]
  },
  {
   "cell_type": "markdown",
   "metadata": {},
   "source": [
    "It pays to make sure that functions with a high `end_count_percent` are [well optimized](https://docs.julialang.org/en/latest/manual/performance-tips/).\n",
    "\n",
    "Another way to reduce the level of detail is to aggregate by `:specialization, :method, :file, :function`, or `:module`."
   ]
  },
  {
   "cell_type": "code",
   "execution_count": 5,
   "metadata": {},
   "outputs": [
    {
     "data": {
      "text/html": [
       "<table class=\"data-frame\"><thead><tr><th></th><th>count_pct</th><th>method</th><th>file</th><th>function</th><th>module</th></tr></thead><tbody><tr><th>1</th><td>99.89</td><td>missing_info() in FProfile.MissingInfo at /Users/cedric/.julia/v0.6/FProfile/src/FProfile.jl:25</td><td>/Users/cedric/.julia/v0.6/FProfile/src/FProfile.jl</td><td>FProfile.MissingInfo.missing_info</td><td>FProfile.MissingInfo</td></tr><tr><th>2</th><td>99.89</td><td>include_string(txt::String, fname::String) in Base at loading.jl:515</td><td>loading.jl</td><td>include_string</td><td>Base</td></tr><tr><th>3</th><td>99.89</td><td>execute_request(socket, msg) in IJulia at /Users/cedric/.julia/v0.6/IJulia/src/execute_request.jl:115</td><td>/Users/cedric/.julia/v0.6/IJulia/src/execute_request.jl</td><td>IJulia.execute_request</td><td>IJulia</td></tr><tr><th>4</th><td>99.89</td><td>(::IJulia.##14#17)() in IJulia at task.jl:335</td><td>task.jl</td><td>IJulia.#14</td><td>IJulia</td></tr><tr><th>5</th><td>99.89</td><td>include_string(mod::Module, code::String, fname::String) in Compat at /Users/cedric/.julia/v0.6/Compat/src/Compat.jl:464</td><td>/Users/cedric/.julia/v0.6/Compat/src/Compat.jl</td><td>include_string</td><td>Compat</td></tr><tr><th>6</th><td>99.89</td><td>eventloop(socket) in IJulia at /Users/cedric/.julia/v0.6/IJulia/src/eventloop.jl:2</td><td>/Users/cedric/.julia/v0.6/IJulia/src/eventloop.jl</td><td>IJulia.eventloop</td><td>IJulia</td></tr><tr><th>7</th><td>99.57</td><td>second_derivative(f::Function, x::Number) in Calculus at /Users/cedric/.julia/v0.6/Calculus/src/derivative.jl:71</td><td>/Users/cedric/.julia/v0.6/Calculus/src/derivative.jl</td><td>Calculus.second_derivative</td><td>Calculus</td></tr><tr><th>8</th><td>53.91</td><td>derivative(f::Function, ftype::Symbol, dtype::Symbol) in Calculus at /Users/cedric/.julia/v0.6/Calculus/src/derivative.jl:2</td><td>/Users/cedric/.julia/v0.6/Calculus/src/derivative.jl</td><td>Calculus.derivative</td><td>Calculus</td></tr><tr><th>9</th><td>19.57</td><td>finite_difference_hessian(f::Function, g::Function, x::Number, dtype::Symbol) in Calculus at /Users/cedric/.julia/v0.6/Calculus/src/finite_difference.jl:224</td><td>/Users/cedric/.julia/v0.6/Calculus/src/finite_difference.jl</td><td>Calculus.finite_difference_hessian</td><td>Calculus</td></tr><tr><th>10</th><td>14.67</td><td>finite_difference(f::Function, x::T, dtype::Symbol) where T&lt;:Number in Calculus at /Users/cedric/.julia/v0.6/Calculus/src/finite_difference.jl:48</td><td>/Users/cedric/.julia/v0.6/Calculus/src/finite_difference.jl</td><td>Calculus.finite_difference</td><td>Calculus</td></tr></tbody></table>"
      ],
      "text/plain": [
       "10×5 DataFrames.DataFrame\n",
       "│ Row │ count_pct │\n",
       "├─────┼───────────┤\n",
       "│ 1   │ 99.89     │\n",
       "│ 2   │ 99.89     │\n",
       "│ 3   │ 99.89     │\n",
       "│ 4   │ 99.89     │\n",
       "│ 5   │ 99.89     │\n",
       "│ 6   │ 99.89     │\n",
       "│ 7   │ 99.57     │\n",
       "│ 8   │ 53.91     │\n",
       "│ 9   │ 19.57     │\n",
       "│ 10  │ 14.67     │\n",
       "\n",
       "│ Row │ method                                                                                                                                                       │\n",
       "├─────┼──────────────────────────────────────────────────────────────────────────────────────────────────────────────────────────────────────────────────────────────┤\n",
       "│ 1   │ missing_info() in FProfile.MissingInfo at /Users/cedric/.julia/v0.6/FProfile/src/FProfile.jl:25                                                              │\n",
       "│ 2   │ include_string(txt::String, fname::String) in Base at loading.jl:515                                                                                         │\n",
       "│ 3   │ execute_request(socket, msg) in IJulia at /Users/cedric/.julia/v0.6/IJulia/src/execute_request.jl:115                                                        │\n",
       "│ 4   │ (::IJulia.##14#17)() in IJulia at task.jl:335                                                                                                                │\n",
       "│ 5   │ include_string(mod::Module, code::String, fname::String) in Compat at /Users/cedric/.julia/v0.6/Compat/src/Compat.jl:464                                     │\n",
       "│ 6   │ eventloop(socket) in IJulia at /Users/cedric/.julia/v0.6/IJulia/src/eventloop.jl:2                                                                           │\n",
       "│ 7   │ second_derivative(f::Function, x::Number) in Calculus at /Users/cedric/.julia/v0.6/Calculus/src/derivative.jl:71                                             │\n",
       "│ 8   │ derivative(f::Function, ftype::Symbol, dtype::Symbol) in Calculus at /Users/cedric/.julia/v0.6/Calculus/src/derivative.jl:2                                  │\n",
       "│ 9   │ finite_difference_hessian(f::Function, g::Function, x::Number, dtype::Symbol) in Calculus at /Users/cedric/.julia/v0.6/Calculus/src/finite_difference.jl:224 │\n",
       "│ 10  │ finite_difference(f::Function, x::T, dtype::Symbol) where T<:Number in Calculus at /Users/cedric/.julia/v0.6/Calculus/src/finite_difference.jl:48            │\n",
       "\n",
       "│ Row │ file                                                        │\n",
       "├─────┼─────────────────────────────────────────────────────────────┤\n",
       "│ 1   │ /Users/cedric/.julia/v0.6/FProfile/src/FProfile.jl          │\n",
       "│ 2   │ loading.jl                                                  │\n",
       "│ 3   │ /Users/cedric/.julia/v0.6/IJulia/src/execute_request.jl     │\n",
       "│ 4   │ task.jl                                                     │\n",
       "│ 5   │ /Users/cedric/.julia/v0.6/Compat/src/Compat.jl              │\n",
       "│ 6   │ /Users/cedric/.julia/v0.6/IJulia/src/eventloop.jl           │\n",
       "│ 7   │ /Users/cedric/.julia/v0.6/Calculus/src/derivative.jl        │\n",
       "│ 8   │ /Users/cedric/.julia/v0.6/Calculus/src/derivative.jl        │\n",
       "│ 9   │ /Users/cedric/.julia/v0.6/Calculus/src/finite_difference.jl │\n",
       "│ 10  │ /Users/cedric/.julia/v0.6/Calculus/src/finite_difference.jl │\n",
       "\n",
       "│ Row │ function                           │ module               │\n",
       "├─────┼────────────────────────────────────┼──────────────────────┤\n",
       "│ 1   │ FProfile.MissingInfo.missing_info  │ FProfile.MissingInfo │\n",
       "│ 2   │ include_string                     │ Base                 │\n",
       "│ 3   │ IJulia.execute_request             │ IJulia               │\n",
       "│ 4   │ IJulia.#14                         │ IJulia               │\n",
       "│ 5   │ include_string                     │ Compat               │\n",
       "│ 6   │ IJulia.eventloop                   │ IJulia               │\n",
       "│ 7   │ Calculus.second_derivative         │ Calculus             │\n",
       "│ 8   │ Calculus.derivative                │ Calculus             │\n",
       "│ 9   │ Calculus.finite_difference_hessian │ Calculus             │\n",
       "│ 10  │ Calculus.finite_difference         │ Calculus             │"
      ]
     },
     "execution_count": 5,
     "metadata": {},
     "output_type": "execute_result"
    }
   ],
   "source": [
    "df_by_method = flat(pd, combineby=:method)"
   ]
  },
  {
   "cell_type": "markdown",
   "metadata": {},
   "source": [
    "You can see the context (caller/called functions) around each of these rows by passing it to `tree`:"
   ]
  },
  {
   "cell_type": "code",
   "execution_count": 6,
   "metadata": {},
   "outputs": [
    {
     "data": {
      "text/plain": [
       " 180 ...ulus/src/derivative.jl:71; second_derivative(::Function, ::F...\n",
       "  175 .../finite_difference.jl:224; finite_difference_hessian(::Func...\n",
       "   112 .../finite_difference.jl:55; finite_difference(::Calculus.##1...\n",
       "   20  .../finite_difference.jl:27; finite_difference(::Calculus.##1...\n",
       "   3   .../finite_difference.jl:0; finite_difference(::Calculus.##1...\n",
       "  5   .../finite_difference.jl:0; finite_difference_hessian(::Func...\n"
      ]
     },
     "execution_count": 6,
     "metadata": {},
     "output_type": "execute_result"
    }
   ],
   "source": [
    "tree(pd, df_by_method, 9)   # show the context of the 9th row of `df_by_method`"
   ]
  },
  {
   "cell_type": "markdown",
   "metadata": {},
   "source": [
    "Other useful dataframe commands:\n",
    "\n",
    "```julia\n",
    "df[[:count_percent, :method]]   # select only those two columns\n",
    "sort(df, cols=:end_count_percent, rev=true)  # sort by end_count_percent\n",
    "showall(df)   # show the whole dataframe\n",
    "```\n",
    "\n",
    "See `?flat` for more options."
   ]
  },
  {
   "cell_type": "markdown",
   "metadata": {},
   "source": [
    "#### Comparing results\n",
    "\n",
    "Pass two `ProfileData` objects to `flat` to compare them. The third column is simply the difference between the first two."
   ]
  },
  {
   "cell_type": "code",
   "execution_count": 7,
   "metadata": {},
   "outputs": [
    {
     "data": {
      "text/html": [
       "<table class=\"data-frame\"><thead><tr><th></th><th>count_pct_1</th><th>count_pct_2</th><th>count_pct_diff</th><th>function</th></tr></thead><tbody><tr><th>1</th><td>19.57</td><td>17.39</td><td>-2.18</td><td>Calculus.finite_difference_hessian</td></tr><tr><th>2</th><td>53.91</td><td>54.42</td><td>0.51</td><td>Calculus.derivative</td></tr><tr><th>3</th><td>14.67</td><td>14.4</td><td>-0.27</td><td>Calculus.finite_difference</td></tr><tr><th>4</th><td>99.57</td><td>99.59</td><td>0.02</td><td>Calculus.second_derivative</td></tr><tr><th>5</th><td>99.89</td><td>99.9</td><td>0.01</td><td>IJulia.execute_request</td></tr><tr><th>6</th><td>99.89</td><td>99.9</td><td>0.01</td><td>include_string</td></tr><tr><th>7</th><td>99.89</td><td>99.9</td><td>0.01</td><td>IJulia.eventloop</td></tr><tr><th>8</th><td>99.89</td><td>99.9</td><td>0.01</td><td>IJulia.#14</td></tr><tr><th>9</th><td>99.89</td><td>99.9</td><td>0.01</td><td>FProfile.MissingInfo.missing_info</td></tr></tbody></table>"
      ],
      "text/plain": [
       "9×4 DataFrames.DataFrame\n",
       "│ Row │ count_pct_1 │ count_pct_2 │ count_pct_diff │\n",
       "├─────┼─────────────┼─────────────┼────────────────┤\n",
       "│ 1   │ 19.57       │ 17.39       │ -2.18          │\n",
       "│ 2   │ 53.91       │ 54.42       │ 0.51           │\n",
       "│ 3   │ 14.67       │ 14.4        │ -0.27          │\n",
       "│ 4   │ 99.57       │ 99.59       │ 0.02           │\n",
       "│ 5   │ 99.89       │ 99.9        │ 0.01           │\n",
       "│ 6   │ 99.89       │ 99.9        │ 0.01           │\n",
       "│ 7   │ 99.89       │ 99.9        │ 0.01           │\n",
       "│ 8   │ 99.89       │ 99.9        │ 0.01           │\n",
       "│ 9   │ 99.89       │ 99.9        │ 0.01           │\n",
       "\n",
       "│ Row │ function                           │\n",
       "├─────┼────────────────────────────────────┤\n",
       "│ 1   │ Calculus.finite_difference_hessian │\n",
       "│ 2   │ Calculus.derivative                │\n",
       "│ 3   │ Calculus.finite_difference         │\n",
       "│ 4   │ Calculus.second_derivative         │\n",
       "│ 5   │ IJulia.execute_request             │\n",
       "│ 6   │ include_string                     │\n",
       "│ 7   │ IJulia.eventloop                   │\n",
       "│ 8   │ IJulia.#14                         │\n",
       "│ 9   │ FProfile.MissingInfo.missing_info  │"
      ]
     },
     "execution_count": 7,
     "metadata": {},
     "output_type": "execute_result"
    }
   ],
   "source": [
    "pd2 = @fprofile 1000000 second_derivative(sin, 1.0)\n",
    "flat(pd, pd2, combineby=:function)"
   ]
  },
  {
   "cell_type": "markdown",
   "metadata": {},
   "source": [
    "Of course, this is most useful when comparing different algorithms or commits (see [Revise.jl](https://github.com/timholy/Revise.jl)). The differences in the above table are  just noise."
   ]
  },
  {
   "cell_type": "markdown",
   "metadata": {},
   "source": [
    "# Tree view\n",
    "\n",
    "FProfile's tree view looks the same as `Base.Profile.print(format=:tree)`. The numbers represent raw counts. (If some branches seem out of place, see [this issue](https://github.com/JuliaLang/julia/issues/9689))"
   ]
  },
  {
   "cell_type": "code",
   "execution_count": 8,
   "metadata": {},
   "outputs": [
    {
     "data": {
      "text/plain": [
       " 919 ./task.jl:335; (::IJulia.##14#17)()\n",
       "  919 ...Julia/src/eventloop.jl:8; eventloop(::ZMQ.Socket)\n",
       "   919 ...rc/execute_request.jl:154; execute_request(::ZMQ.Socket, ::...\n",
       "    919 ...Compat/src/Compat.jl:464; include_string(::Module, ::Stri...\n",
       "     919 ./loading.jl:515; include_string(::String, ::String)\n",
       "      919 ./<missing>:?; FProfile.MissingInfo.missing_info\n",
       "       919 ...ile/src/FProfile.jl:52; FProfile.MissingInfo.missing_info\n",
       "        919 ./profile.jl:23; FProfile.MissingInfo.missing_info\n",
       "         917 ...ile/src/FProfile.jl:67; FProfile.MissingInfo.missing_info\n",
       "          913 .../src/derivative.jl:71; second_derivative(::Function...\n",
       "           490 ...src/derivative.jl:3; derivative(::Function, ::Sy...\n",
       "           175 ...ite_difference.jl:224; finite_difference_hessian(:...\n",
       "            112 ...ite_difference.jl:55; finite_difference(::Calculu...\n",
       "             2  ...ite_difference.jl:0; finite_difference(::Base.#...\n",
       "             32 ...ite_difference.jl:27; finite_difference(::Base.#...\n",
       "             64 ...ite_difference.jl:55; finite_difference(::Base.#...\n",
       "              55 ./math.jl:419; FProfile.MissingInfo.missi...\n",
       "               1 ./math.jl:300; FProfile.MissingInfo.missi...\n",
       "             1  ./math.jl:300; finite_difference(::Base.#...\n",
       "             1  ...ite_difference.jl:48; finite_difference(::Base.#...\n",
       "             1  ...ite_difference.jl:54; finite_difference(::Base.#...\n",
       "            20  ...ite_difference.jl:27; finite_difference(::Calculu...\n",
       "            3   ...ite_difference.jl:0; finite_difference(::Calculu...\n",
       "           5   ...ite_difference.jl:0; finite_difference_hessian(:...\n",
       "           5   ...src/derivative.jl:0; derivative(::Function, ::Sy...\n",
       "          3   .../src/derivative.jl:0; second_derivative(::Function...\n",
       " 1   ...lus/src/derivative.jl:0; derivative(::Function, ::Symbol, ...\n"
      ]
     },
     "execution_count": 8,
     "metadata": {},
     "output_type": "execute_result"
    }
   ],
   "source": [
    "tr = tree(pd)"
   ]
  },
  {
   "cell_type": "markdown",
   "metadata": {},
   "source": [
    "Like `flat` reports, trees can be aggregated by `:specialization, :method, :file, :function`, or `:module`:"
   ]
  },
  {
   "cell_type": "code",
   "execution_count": 9,
   "metadata": {},
   "outputs": [
    {
     "data": {
      "text/plain": [
       " 919 IJulia\n",
       "  919 Compat\n",
       "   919 Base\n",
       "    919 FProfile.MissingInfo\n",
       "     916 Calculus\n",
       "      55 FProfile.MissingInfo\n",
       " 1   Calculus\n"
      ]
     },
     "execution_count": 9,
     "metadata": {},
     "output_type": "execute_result"
    }
   ],
   "source": [
    "tree(pd, combineby=:module)"
   ]
  },
  {
   "cell_type": "markdown",
   "metadata": {},
   "source": [
    "If you're only interested in a particular module/file/method/function, you can pass it to `tree`, along with an optional _neighborhood range_."
   ]
  },
  {
   "cell_type": "code",
   "execution_count": 10,
   "metadata": {},
   "outputs": [
    {
     "data": {
      "text/plain": [
       " 916 ...rofile/src/FProfile.jl:67; FProfile.MissingInfo.missing_info\n",
       "  913 ...lus/src/derivative.jl:71; second_derivative(::Function, ::F...\n",
       "   490 ...lus/src/derivative.jl:3; derivative(::Function, ::Symbol,...\n",
       "   175 .../finite_difference.jl:224; finite_difference_hessian(::Func...\n",
       "   5   .../finite_difference.jl:0; finite_difference_hessian(::Func...\n",
       "   5   ...lus/src/derivative.jl:0; derivative(::Function, ::Symbol,...\n",
       "  3   ...lus/src/derivative.jl:0; second_derivative(::Function, ::F...\n"
      ]
     },
     "execution_count": 10,
     "metadata": {},
     "output_type": "execute_result"
    }
   ],
   "source": [
    "tr_deriv = tree(pd, second_derivative, -1:1)    # -1:1 = show one level of callers and one level of called functions"
   ]
  },
  {
   "cell_type": "markdown",
   "metadata": {},
   "source": [
    "Trees are an indexable and filterable datastructure. Use `get_specialization, get_method, get_file, get_function, get_module, is_C_call` and `is_inlined` in your `filter` predicate."
   ]
  },
  {
   "cell_type": "code",
   "execution_count": 11,
   "metadata": {},
   "outputs": [
    {
     "data": {
      "text/plain": [
       "913 ...ulus/src/derivative.jl:71; second_derivative(::Function, ::Fl...\n",
       " 490 ...lus/src/derivative.jl:3; derivative(::Function, ::Symbol, ...\n",
       " 175 .../finite_difference.jl:224; finite_difference_hessian(::Funct...\n",
       " 5   .../finite_difference.jl:0; finite_difference_hessian(::Funct...\n",
       " 5   ...lus/src/derivative.jl:0; derivative(::Function, ::Symbol, ...\n"
      ]
     },
     "execution_count": 11,
     "metadata": {},
     "output_type": "execute_result"
    }
   ],
   "source": [
    "tr_deriv[1,1]"
   ]
  },
  {
   "cell_type": "markdown",
   "metadata": {},
   "source": [
    "# Backtraces\n",
    "\n",
    "(if you want to build your own analysis)\n",
    "\n",
    "The raw profiler data is available either through `Base.Profile.retrieve()`, or through `pd.data` and `pd.lidict`. However, you might find `FProfile.backtraces(::ProfileData)` more immediately useful. "
   ]
  },
  {
   "cell_type": "code",
   "execution_count": 12,
   "metadata": {},
   "outputs": [
    {
     "name": "stdout",
     "output_type": "stream",
     "text": [
      "count = 1\n"
     ]
    },
    {
     "data": {
      "text/plain": [
       "11-element Array{StackFrame,1}:\n",
       " (::IJulia.##14#17)() at task.jl:335                                  \n",
       " eventloop(::ZMQ.Socket) at eventloop.jl:8                            \n",
       " execute_request(::ZMQ.Socket, ::IJulia.Msg) at execute_request.jl:154\n",
       " include_string(::Module, ::String, ::String) at Compat.jl:464        \n",
       " include_string(::String, ::String) at loading.jl:515                 \n",
       " anonymous at <missing>:?                                             \n",
       " macro expansion at FProfile.jl:52 [inlined]                          \n",
       " macro expansion at profile.jl:23 [inlined]                           \n",
       " macro expansion at FProfile.jl:67 [inlined]                          \n",
       " second_derivative(::Function, ::Float64) at derivative.jl:71         \n",
       " derivative(::Function, ::Symbol, ::Symbol) at derivative.jl:3        "
      ]
     },
     "execution_count": 12,
     "metadata": {},
     "output_type": "execute_result"
    }
   ],
   "source": [
    "count, trace = backtraces(pd)[1]  # get the first unique backtrace\n",
    "@show count                       # the number of times that trace occurs in the raw data\n",
    "trace"
   ]
  },
  {
   "cell_type": "markdown",
   "metadata": {},
   "source": [
    "Use the `get_method, get_file, ...` functions on `StackFrame` objects (see above). `tree(pd::ProfileData)` is defined as `tree(backtraces(pd))`, and similarly for `flat`, so you can modify the backtraces and get a tree/flat view of the results."
   ]
  }
 ],
 "metadata": {
  "kernelspec": {
   "display_name": "Julia 0.6.0 (Programa)",
   "language": "julia",
   "name": "julia-0.6-programa"
  },
  "language_info": {
   "file_extension": ".jl",
   "mimetype": "application/julia",
   "name": "julia",
   "version": "0.6.0"
  }
 },
 "nbformat": 4,
 "nbformat_minor": 2
}
