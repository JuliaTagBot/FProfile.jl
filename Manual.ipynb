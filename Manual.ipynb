{
 "cells": [
  {
   "cell_type": "code",
   "execution_count": 1,
   "metadata": {
    "collapsed": true
   },
   "outputs": [],
   "source": [
    "using Revise"
   ]
  },
  {
   "cell_type": "markdown",
   "metadata": {},
   "source": [
    "[FProfile.jl](https://github.com/cstjean/FProfile.jl) provides an alternative interface for [Julia's sampling profiler](https://docs.julialang.org/en/latest/manual/profile/). Please read the introduction of that document before proceeding if you've never used `@profile`.\n",
    "\n",
    "# Profiling\n",
    "\n",
    "You can build a profile by calling `@fprofile(code, delay=0.001, n_samples=1000000)`:"
   ]
  },
  {
   "cell_type": "code",
   "execution_count": 2,
   "metadata": {},
   "outputs": [
    {
     "name": "stderr",
     "output_type": "stream",
     "text": [
      "\u001b[1m\u001b[36mINFO: \u001b[39m\u001b[22m\u001b[36mRecompiling stale cache file /Users/cedric/.julia/lib/v0.6/FProfile.ji for module FProfile.\n",
      "\u001b[39m"
     ]
    },
    {
     "data": {
      "text/plain": [
       "ProfileData(42 backtraces)"
      ]
     },
     "execution_count": 2,
     "metadata": {},
     "output_type": "execute_result"
    }
   ],
   "source": [
    "using FProfile, Calculus\n",
    "\n",
    "pd = @fprofile second_derivative(sin, 1.0)"
   ]
  },
  {
   "cell_type": "markdown",
   "metadata": {},
   "source": [
    "`@fprofile(N, ...)` is shorthand for `@fprofile(for _ in 1:N ... end)`:"
   ]
  },
  {
   "cell_type": "code",
   "execution_count": 3,
   "metadata": {},
   "outputs": [
    {
     "data": {
      "text/plain": [
       "ProfileData(967 backtraces)"
      ]
     },
     "execution_count": 3,
     "metadata": {},
     "output_type": "execute_result"
    }
   ],
   "source": [
    "pd = @fprofile 1000000 second_derivative(sin, 1.0)"
   ]
  },
  {
   "cell_type": "markdown",
   "metadata": {},
   "source": [
    "Do not forget that Julia compiles code the first time a function is run; if you do not want to measure compilation time, execute your code once before profiling."
   ]
  },
  {
   "cell_type": "markdown",
   "metadata": {},
   "source": [
    "# Flat view\n",
    "\n",
    "FProfile's `flat` report is a [dataframe](http://juliadata.github.io/DataFrames.jl/stable/man/getting_started/#Getting-Started-1). No particular knowledge of dataframes is necessary. I'll provide a few common operations below."
   ]
  },
  {
   "cell_type": "code",
   "execution_count": 4,
   "metadata": {},
   "outputs": [
    {
     "data": {
      "text/html": [
       "<table class=\"data-frame\"><thead><tr><th></th><th>count_pct</th><th>stackframe</th></tr></thead><tbody><tr><th>1</th><td>99.9</td><td>execute_request(::ZMQ.Socket, ::IJulia.Msg) at execute_request.jl:154</td></tr><tr><th>2</th><td>99.9</td><td>anonymous at &lt;missing&gt;:?</td></tr><tr><th>3</th><td>99.9</td><td>macro expansion at FProfile.jl:52 [inlined]</td></tr><tr><th>4</th><td>99.9</td><td>(::IJulia.##14#17)() at task.jl:335</td></tr><tr><th>5</th><td>99.9</td><td>eventloop(::ZMQ.Socket) at eventloop.jl:8</td></tr><tr><th>6</th><td>99.9</td><td>macro expansion at profile.jl:23 [inlined]</td></tr><tr><th>7</th><td>99.9</td><td>include_string(::Module, ::String, ::String) at Compat.jl:464</td></tr><tr><th>8</th><td>99.9</td><td>macro expansion at FProfile.jl:67 [inlined]</td></tr><tr><th>9</th><td>99.9</td><td>include_string(::String, ::String) at loading.jl:515</td></tr><tr><th>10</th><td>99.07</td><td>second_derivative(::Function, ::Float64) at derivative.jl:71</td></tr><tr><th>11</th><td>50.67</td><td>derivative(::Function, ::Symbol, ::Symbol) at derivative.jl:3</td></tr><tr><th>12</th><td>18.61</td><td>finite_difference_hessian(::Function, ::Function, ::Float64, ::Symbol) at finite_difference.jl:224</td></tr><tr><th>13</th><td>13.13</td><td>finite_difference(::Calculus.##1#3{Base.#sin,Symbol}, ::Float64, ::Symbol) at finite_difference.jl:55</td></tr><tr><th>14</th><td>6.51</td><td>finite_difference(::Base.#sin, ::Float64, ::Symbol) at finite_difference.jl:27</td></tr><tr><th>15</th><td>6.1</td><td>sin at math.jl:419 [inlined]</td></tr></tbody></table>"
      ],
      "text/plain": [
       "15×2 DataFrames.DataFrame\n",
       "│ Row │ count_pct │\n",
       "├─────┼───────────┤\n",
       "│ 1   │ 99.9      │\n",
       "│ 2   │ 99.9      │\n",
       "│ 3   │ 99.9      │\n",
       "│ 4   │ 99.9      │\n",
       "│ 5   │ 99.9      │\n",
       "│ 6   │ 99.9      │\n",
       "│ 7   │ 99.9      │\n",
       "│ 8   │ 99.9      │\n",
       "│ 9   │ 99.9      │\n",
       "│ 10  │ 99.07     │\n",
       "│ 11  │ 50.67     │\n",
       "│ 12  │ 18.61     │\n",
       "│ 13  │ 13.13     │\n",
       "│ 14  │ 6.51      │\n",
       "│ 15  │ 6.1       │\n",
       "\n",
       "│ Row │ stackframe                                                                                            │\n",
       "├─────┼───────────────────────────────────────────────────────────────────────────────────────────────────────┤\n",
       "│ 1   │ execute_request(::ZMQ.Socket, ::IJulia.Msg) at execute_request.jl:154                                 │\n",
       "│ 2   │ anonymous at <missing>:?                                                                              │\n",
       "│ 3   │ macro expansion at FProfile.jl:52 [inlined]                                                           │\n",
       "│ 4   │ (::IJulia.##14#17)() at task.jl:335                                                                   │\n",
       "│ 5   │ eventloop(::ZMQ.Socket) at eventloop.jl:8                                                             │\n",
       "│ 6   │ macro expansion at profile.jl:23 [inlined]                                                            │\n",
       "│ 7   │ include_string(::Module, ::String, ::String) at Compat.jl:464                                         │\n",
       "│ 8   │ macro expansion at FProfile.jl:67 [inlined]                                                           │\n",
       "│ 9   │ include_string(::String, ::String) at loading.jl:515                                                  │\n",
       "│ 10  │ second_derivative(::Function, ::Float64) at derivative.jl:71                                          │\n",
       "│ 11  │ derivative(::Function, ::Symbol, ::Symbol) at derivative.jl:3                                         │\n",
       "│ 12  │ finite_difference_hessian(::Function, ::Function, ::Float64, ::Symbol) at finite_difference.jl:224    │\n",
       "│ 13  │ finite_difference(::Calculus.##1#3{Base.#sin,Symbol}, ::Float64, ::Symbol) at finite_difference.jl:55 │\n",
       "│ 14  │ finite_difference(::Base.#sin, ::Float64, ::Symbol) at finite_difference.jl:27                        │\n",
       "│ 15  │ sin at math.jl:419 [inlined]                                                                          │"
      ]
     },
     "execution_count": 4,
     "metadata": {},
     "output_type": "execute_result"
    }
   ],
   "source": [
    "using DataFrames\n",
    "\n",
    "df = flat(pd)\n",
    "head(df, 15)   # show only the first 15 rows (the 15 rows with the highest count)"
   ]
  },
  {
   "cell_type": "markdown",
   "metadata": {},
   "source": [
    "The first column shows what fraction of backtraces (in %) go through the `method at file:line_number` in the `stackframe` column. It's the same quantity as in `Base.Profile.print()`, except for recursive calls: if `f(1)` calls `f(0)`, that's 2 counts in Base's report, but only 1 count in FProfile.\n",
    "\n",
    "You can select a subset of the dataframe by using one of the five accessors: `get_specialization, get_method, get_file, get_function` and `get_module`."
   ]
  },
  {
   "cell_type": "code",
   "execution_count": 5,
   "metadata": {},
   "outputs": [
    {
     "data": {
      "text/html": [
       "<table class=\"data-frame\"><thead><tr><th></th><th>count_pct</th><th>stackframe</th></tr></thead><tbody><tr><th>1</th><td>50.67</td><td>derivative(::Function, ::Symbol, ::Symbol) at derivative.jl:3</td></tr><tr><th>2</th><td>0.52</td><td>derivative(::Function, ::Symbol, ::Symbol) at derivative.jl:0</td></tr></tbody></table>"
      ],
      "text/plain": [
       "2×2 DataFrames.DataFrame\n",
       "│ Row │ count_pct │\n",
       "├─────┼───────────┤\n",
       "│ 1   │ 50.67     │\n",
       "│ 2   │ 0.52      │\n",
       "\n",
       "│ Row │ stackframe                                                    │\n",
       "├─────┼───────────────────────────────────────────────────────────────┤\n",
       "│ 1   │ derivative(::Function, ::Symbol, ::Symbol) at derivative.jl:3 │\n",
       "│ 2   │ derivative(::Function, ::Symbol, ::Symbol) at derivative.jl:0 │"
      ]
     },
     "execution_count": 5,
     "metadata": {},
     "output_type": "execute_result"
    }
   ],
   "source": [
    "df[get_function.(df[:stackframe]) .== derivative, :]  # select the `derivative` rows"
   ]
  },
  {
   "cell_type": "markdown",
   "metadata": {},
   "source": [
    "It is common to focus optimization efforts on one or more modules at a time (... the ones you're developing). `flat(pd, MyModule)` filters out other modules and adds a useful column: `self_pct` measures how much `MyModule`-specific work is done on that line.\n",
    "\n",
    "For instance, in the code below, while the `do_computation()` call takes a long time (it has a high `count_percent`), it merely calls another `Main` function, so it has a low `self_pct`. `sum_of_sin` has `self_pct = 100%` because while it calls `sum` and `sin`, those are defined in another module (`Base`), and counted as external to `Main`. \n",
    "\n",
    "`flat(pd, (Module1, Module2, ...))` is also accepted."
   ]
  },
  {
   "cell_type": "code",
   "execution_count": 6,
   "metadata": {},
   "outputs": [
    {
     "data": {
      "text/html": [
       "<table class=\"data-frame\"><thead><tr><th></th><th>count_pct</th><th>self_pct</th><th>stackframe</th></tr></thead><tbody><tr><th>1</th><td>100.0</td><td>0.0</td><td>do_computation(::Int64) at In[6]:1</td></tr><tr><th>2</th><td>100.0</td><td>100.0</td><td>sum_of_sin(::Int64) at In[6]:2</td></tr></tbody></table>"
      ],
      "text/plain": [
       "2×3 DataFrames.DataFrame\n",
       "│ Row │ count_pct │ self_pct │ stackframe                         │\n",
       "├─────┼───────────┼──────────┼────────────────────────────────────┤\n",
       "│ 1   │ 100.0     │ 0.0      │ do_computation(::Int64) at In[6]:1 │\n",
       "│ 2   │ 100.0     │ 100.0    │ sum_of_sin(::Int64) at In[6]:2     │"
      ]
     },
     "execution_count": 6,
     "metadata": {},
     "output_type": "execute_result"
    }
   ],
   "source": [
    "@noinline do_computation(n) = sum_of_sin(n)\n",
    "@noinline sum_of_sin(n) = sum(sin, 1:n)\n",
    "pd2 = @fprofile do_computation(10000000)\n",
    "flat(pd2, Main)"
   ]
  },
  {
   "cell_type": "markdown",
   "metadata": {},
   "source": [
    "It pays to make sure that functions with a high `self_pct` are [well optimized](https://docs.julialang.org/en/latest/manual/performance-tips/).\n",
    "\n",
    "Another way to reduce the level of detail is to aggregate by `:specialization, :method, :file, :function`, or `:module`."
   ]
  },
  {
   "cell_type": "code",
   "execution_count": 7,
   "metadata": {},
   "outputs": [
    {
     "data": {
      "text/html": [
       "<table class=\"data-frame\"><thead><tr><th></th><th>count_pct</th><th>method</th></tr></thead><tbody><tr><th>1</th><td>99.9</td><td>missing_info() in FProfile.MissingInfo at /Users/cedric/.julia/v0.6/FProfile/src/FProfile.jl:25</td></tr><tr><th>2</th><td>99.9</td><td>eventloop(socket) in IJulia at /Users/cedric/.julia/v0.6/IJulia/src/eventloop.jl:2</td></tr><tr><th>3</th><td>99.9</td><td>(::IJulia.##14#17)() in IJulia at task.jl:335</td></tr><tr><th>4</th><td>99.9</td><td>include_string(mod::Module, code::String, fname::String) in Compat at /Users/cedric/.julia/v0.6/Compat/src/Compat.jl:464</td></tr><tr><th>5</th><td>99.9</td><td>execute_request(socket, msg) in IJulia at /Users/cedric/.julia/v0.6/IJulia/src/execute_request.jl:115</td></tr><tr><th>6</th><td>99.9</td><td>include_string(txt::String, fname::String) in Base at loading.jl:515</td></tr><tr><th>7</th><td>99.48</td><td>second_derivative(f::Function, x::Number) in Calculus at /Users/cedric/.julia/v0.6/Calculus/src/derivative.jl:71</td></tr><tr><th>8</th><td>51.19</td><td>derivative(f::Function, ftype::Symbol, dtype::Symbol) in Calculus at /Users/cedric/.julia/v0.6/Calculus/src/derivative.jl:2</td></tr><tr><th>9</th><td>19.03</td><td>finite_difference_hessian(f::Function, g::Function, x::Number, dtype::Symbol) in Calculus at /Users/cedric/.julia/v0.6/Calculus/src/finite_difference.jl:224</td></tr><tr><th>10</th><td>16.65</td><td>finite_difference(f::Function, x::T, dtype::Symbol) where T&lt;:Number in Calculus at /Users/cedric/.julia/v0.6/Calculus/src/finite_difference.jl:48</td></tr></tbody></table>"
      ],
      "text/plain": [
       "10×2 DataFrames.DataFrame\n",
       "│ Row │ count_pct │\n",
       "├─────┼───────────┤\n",
       "│ 1   │ 99.9      │\n",
       "│ 2   │ 99.9      │\n",
       "│ 3   │ 99.9      │\n",
       "│ 4   │ 99.9      │\n",
       "│ 5   │ 99.9      │\n",
       "│ 6   │ 99.9      │\n",
       "│ 7   │ 99.48     │\n",
       "│ 8   │ 51.19     │\n",
       "│ 9   │ 19.03     │\n",
       "│ 10  │ 16.65     │\n",
       "\n",
       "│ Row │ method                                                                                                                                                       │\n",
       "├─────┼──────────────────────────────────────────────────────────────────────────────────────────────────────────────────────────────────────────────────────────────┤\n",
       "│ 1   │ missing_info() in FProfile.MissingInfo at /Users/cedric/.julia/v0.6/FProfile/src/FProfile.jl:25                                                              │\n",
       "│ 2   │ eventloop(socket) in IJulia at /Users/cedric/.julia/v0.6/IJulia/src/eventloop.jl:2                                                                           │\n",
       "│ 3   │ (::IJulia.##14#17)() in IJulia at task.jl:335                                                                                                                │\n",
       "│ 4   │ include_string(mod::Module, code::String, fname::String) in Compat at /Users/cedric/.julia/v0.6/Compat/src/Compat.jl:464                                     │\n",
       "│ 5   │ execute_request(socket, msg) in IJulia at /Users/cedric/.julia/v0.6/IJulia/src/execute_request.jl:115                                                        │\n",
       "│ 6   │ include_string(txt::String, fname::String) in Base at loading.jl:515                                                                                         │\n",
       "│ 7   │ second_derivative(f::Function, x::Number) in Calculus at /Users/cedric/.julia/v0.6/Calculus/src/derivative.jl:71                                             │\n",
       "│ 8   │ derivative(f::Function, ftype::Symbol, dtype::Symbol) in Calculus at /Users/cedric/.julia/v0.6/Calculus/src/derivative.jl:2                                  │\n",
       "│ 9   │ finite_difference_hessian(f::Function, g::Function, x::Number, dtype::Symbol) in Calculus at /Users/cedric/.julia/v0.6/Calculus/src/finite_difference.jl:224 │\n",
       "│ 10  │ finite_difference(f::Function, x::T, dtype::Symbol) where T<:Number in Calculus at /Users/cedric/.julia/v0.6/Calculus/src/finite_difference.jl:48            │"
      ]
     },
     "execution_count": 7,
     "metadata": {},
     "output_type": "execute_result"
    }
   ],
   "source": [
    "df_by_method = flat(pd, combineby=:method)"
   ]
  },
  {
   "cell_type": "markdown",
   "metadata": {},
   "source": [
    "You can see the context (caller/called functions) around each of these rows by passing it to `tree`:"
   ]
  },
  {
   "cell_type": "code",
   "execution_count": 8,
   "metadata": {},
   "outputs": [
    {
     "data": {
      "text/plain": [
       " 184 ...ulus/src/derivative.jl:71; second_derivative(::Function, ::F...\n",
       "  180 .../finite_difference.jl:224; finite_difference_hessian(::Func...\n",
       "   127 .../finite_difference.jl:55; finite_difference(::Calculus.##1...\n",
       "   28  .../finite_difference.jl:27; finite_difference(::Calculus.##1...\n",
       "   2   .../finite_difference.jl:48; finite_difference(::Calculus.##1...\n",
       "   1   .../finite_difference.jl:0; finite_difference(::Calculus.##1...\n",
       "   2   .../finite_difference.jl:54; finite_difference(::Calculus.##1...\n",
       "  4   .../finite_difference.jl:0; finite_difference_hessian(::Func...\n"
      ]
     },
     "execution_count": 8,
     "metadata": {},
     "output_type": "execute_result"
    }
   ],
   "source": [
    "tree(pd, df_by_method, 9)   # show the context of the 9th row of `df_by_method`"
   ]
  },
  {
   "cell_type": "markdown",
   "metadata": {},
   "source": [
    "Other useful dataframe commands:\n",
    "\n",
    "```julia\n",
    "df[[:count_percent, :method]]   # select only those two columns\n",
    "sort(df, cols=:self_pct, rev=true)  # sort by self_pct\n",
    "showall(df)   # show the whole dataframe\n",
    "```\n",
    "\n",
    "See `?flat` for more options."
   ]
  },
  {
   "cell_type": "markdown",
   "metadata": {},
   "source": [
    "#### Comparing results\n",
    "\n",
    "Pass two `ProfileData` objects to `flat` to compare them. The third column is simply the difference between the first two. Use `sort(df, cols=:count_pct_diff, rev=true)` to show the worst performance regressions."
   ]
  },
  {
   "cell_type": "code",
   "execution_count": 9,
   "metadata": {},
   "outputs": [
    {
     "data": {
      "text/html": [
       "<table class=\"data-frame\"><thead><tr><th></th><th>count_pct_1</th><th>count_pct_2</th><th>count_pct_diff</th><th>function</th></tr></thead><tbody><tr><th>1</th><td>51.19</td><td>55.83</td><td>4.64</td><td>Calculus.derivative</td></tr><tr><th>2</th><td>19.03</td><td>17.43</td><td>-1.6</td><td>Calculus.finite_difference_hessian</td></tr><tr><th>3</th><td>16.65</td><td>15.1</td><td>-1.55</td><td>Calculus.finite_difference</td></tr><tr><th>4</th><td>99.48</td><td>99.59</td><td>0.11</td><td>Calculus.second_derivative</td></tr><tr><th>5</th><td>99.9</td><td>99.8</td><td>-0.1</td><td>IJulia.execute_request</td></tr><tr><th>6</th><td>99.9</td><td>99.8</td><td>-0.1</td><td>include_string</td></tr><tr><th>7</th><td>99.9</td><td>99.8</td><td>-0.1</td><td>FProfile.MissingInfo.missing_info</td></tr><tr><th>8</th><td>99.9</td><td>99.8</td><td>-0.1</td><td>IJulia.eventloop</td></tr><tr><th>9</th><td>99.9</td><td>99.8</td><td>-0.1</td><td>IJulia.#14</td></tr></tbody></table>"
      ],
      "text/plain": [
       "9×4 DataFrames.DataFrame\n",
       "│ Row │ count_pct_1 │ count_pct_2 │ count_pct_diff │\n",
       "├─────┼─────────────┼─────────────┼────────────────┤\n",
       "│ 1   │ 51.19       │ 55.83       │ 4.64           │\n",
       "│ 2   │ 19.03       │ 17.43       │ -1.6           │\n",
       "│ 3   │ 16.65       │ 15.1        │ -1.55          │\n",
       "│ 4   │ 99.48       │ 99.59       │ 0.11           │\n",
       "│ 5   │ 99.9        │ 99.8        │ -0.1           │\n",
       "│ 6   │ 99.9        │ 99.8        │ -0.1           │\n",
       "│ 7   │ 99.9        │ 99.8        │ -0.1           │\n",
       "│ 8   │ 99.9        │ 99.8        │ -0.1           │\n",
       "│ 9   │ 99.9        │ 99.8        │ -0.1           │\n",
       "\n",
       "│ Row │ function                           │\n",
       "├─────┼────────────────────────────────────┤\n",
       "│ 1   │ Calculus.derivative                │\n",
       "│ 2   │ Calculus.finite_difference_hessian │\n",
       "│ 3   │ Calculus.finite_difference         │\n",
       "│ 4   │ Calculus.second_derivative         │\n",
       "│ 5   │ IJulia.execute_request             │\n",
       "│ 6   │ include_string                     │\n",
       "│ 7   │ FProfile.MissingInfo.missing_info  │\n",
       "│ 8   │ IJulia.eventloop                   │\n",
       "│ 9   │ IJulia.#14                         │"
      ]
     },
     "execution_count": 9,
     "metadata": {},
     "output_type": "execute_result"
    }
   ],
   "source": [
    "pd2 = @fprofile 1000000 second_derivative(sin, 1.0)\n",
    "flat(pd, pd2, combineby=:function)"
   ]
  },
  {
   "cell_type": "markdown",
   "metadata": {},
   "source": [
    "Of course, this is most useful when comparing different algorithms or commits (see [Revise.jl](https://github.com/timholy/Revise.jl)). The differences in the above table are  just noise."
   ]
  },
  {
   "cell_type": "markdown",
   "metadata": {},
   "source": [
    "# Tree view\n",
    "\n",
    "FProfile's tree view looks the same as `Base.Profile.print(format=:tree)`. The numbers represent raw counts. (If some branches seem out of place, see [this issue](https://github.com/JuliaLang/julia/issues/9689))"
   ]
  },
  {
   "cell_type": "code",
   "execution_count": 10,
   "metadata": {},
   "outputs": [
    {
     "data": {
      "text/plain": [
       " 966 ./task.jl:335; (::IJulia.##14#17)()\n",
       "  966 ...Julia/src/eventloop.jl:8; eventloop(::ZMQ.Socket)\n",
       "   966 ...rc/execute_request.jl:154; execute_request(::ZMQ.Socket, ::...\n",
       "    966 ...Compat/src/Compat.jl:464; include_string(::Module, ::Stri...\n",
       "     966 ./loading.jl:515; include_string(::String, ::String)\n",
       "      966 ./<missing>:?; FProfile.MissingInfo.missing_info\n",
       "       966 ...ile/src/FProfile.jl:52; FProfile.MissingInfo.missing_info\n",
       "        966 ./profile.jl:23; FProfile.MissingInfo.missing_info\n",
       "         966 ...ile/src/FProfile.jl:67; FProfile.MissingInfo.missing_info\n",
       "          958 .../src/derivative.jl:71; second_derivative(::Function...\n",
       "           180 ...ite_difference.jl:224; finite_difference_hessian(:...\n",
       "            127 ...ite_difference.jl:55; finite_difference(::Calculu...\n",
       "             35 ...ite_difference.jl:27; finite_difference(::Base.#s...\n",
       "             77 ...ite_difference.jl:55; finite_difference(::Base.#s...\n",
       "              59 ./math.jl:419; FProfile.MissingInfo.missi...\n",
       "             3  ...ite_difference.jl:54; finite_difference(::Base.#s...\n",
       "             1  ...ite_difference.jl:0; finite_difference(::Base.#s...\n",
       "            28  ...ite_difference.jl:27; finite_difference(::Calculu...\n",
       "            2   ...ite_difference.jl:48; finite_difference(::Calculu...\n",
       "            1   ...ite_difference.jl:0; finite_difference(::Calculu...\n",
       "            2   ...ite_difference.jl:54; finite_difference(::Calculu...\n",
       "           490 ...src/derivative.jl:3; derivative(::Function, ::Sy...\n",
       "           5   ...src/derivative.jl:0; derivative(::Function, ::Sy...\n",
       "           4   ...ite_difference.jl:0; finite_difference_hessian(:...\n",
       "          4   .../src/derivative.jl:0; second_derivative(::Function...\n",
       " 1   .../finite_difference.jl:0; finite_difference(::Calculus.##1#...\n"
      ]
     },
     "execution_count": 10,
     "metadata": {},
     "output_type": "execute_result"
    }
   ],
   "source": [
    "tr = tree(pd)"
   ]
  },
  {
   "cell_type": "markdown",
   "metadata": {},
   "source": [
    "Like `flat` reports, trees can be aggregated by `:specialization, :method, :file, :function`, or `:module`:"
   ]
  },
  {
   "cell_type": "code",
   "execution_count": 11,
   "metadata": {},
   "outputs": [
    {
     "data": {
      "text/plain": [
       " 966 IJulia\n",
       "  966 Compat\n",
       "   966 Base\n",
       "    966 FProfile.MissingInfo\n",
       "     962 Calculus\n",
       "      59 FProfile.MissingInfo\n",
       " 1   Calculus\n"
      ]
     },
     "execution_count": 11,
     "metadata": {},
     "output_type": "execute_result"
    }
   ],
   "source": [
    "tree(pd, combineby=:module)"
   ]
  },
  {
   "cell_type": "markdown",
   "metadata": {},
   "source": [
    "If you're only interested in a particular module/file/method/function, you can pass it to `tree`, along with an optional _neighborhood range_."
   ]
  },
  {
   "cell_type": "code",
   "execution_count": 12,
   "metadata": {},
   "outputs": [
    {
     "data": {
      "text/plain": [
       " 962 ...rofile/src/FProfile.jl:67; FProfile.MissingInfo.missing_info\n",
       "  958 ...lus/src/derivative.jl:71; second_derivative(::Function, ::F...\n",
       "   180 .../finite_difference.jl:224; finite_difference_hessian(::Func...\n",
       "   490 ...lus/src/derivative.jl:3; derivative(::Function, ::Symbol,...\n",
       "   5   ...lus/src/derivative.jl:0; derivative(::Function, ::Symbol,...\n",
       "   4   .../finite_difference.jl:0; finite_difference_hessian(::Func...\n",
       "  4   ...lus/src/derivative.jl:0; second_derivative(::Function, ::F...\n"
      ]
     },
     "execution_count": 12,
     "metadata": {},
     "output_type": "execute_result"
    }
   ],
   "source": [
    "tr_deriv = tree(pd, second_derivative, -1:1)    # -1:1 = show one level of callers and one level of called functions"
   ]
  },
  {
   "cell_type": "code",
   "execution_count": 13,
   "metadata": {},
   "outputs": [
    {
     "data": {
      "text/plain": [
       "is_C_call (generic function with 1 method)"
      ]
     },
     "execution_count": 13,
     "metadata": {},
     "output_type": "execute_result"
    }
   ],
   "source": [
    "is_C_call"
   ]
  },
  {
   "cell_type": "markdown",
   "metadata": {},
   "source": [
    "Trees are an indexable and filterable datastructure. Use the accessors (see above) and `is_inline/is_C_call` in your `filter` predicate."
   ]
  },
  {
   "cell_type": "code",
   "execution_count": 14,
   "metadata": {},
   "outputs": [
    {
     "data": {
      "text/plain": [
       "958 ...ulus/src/derivative.jl:71; second_derivative(::Function, ::Fl...\n",
       " 180 .../finite_difference.jl:224; finite_difference_hessian(::Funct...\n",
       " 490 ...lus/src/derivative.jl:3; derivative(::Function, ::Symbol, ...\n",
       " 5   ...lus/src/derivative.jl:0; derivative(::Function, ::Symbol, ...\n",
       " 4   .../finite_difference.jl:0; finite_difference_hessian(::Funct...\n"
      ]
     },
     "execution_count": 14,
     "metadata": {},
     "output_type": "execute_result"
    }
   ],
   "source": [
    "tr_deriv[1,1]"
   ]
  },
  {
   "cell_type": "markdown",
   "metadata": {},
   "source": [
    "# Backtraces\n",
    "\n",
    "(if you want to build your own analysis)\n",
    "\n",
    "The raw profiler data is available either through `Base.Profile.retrieve()`, or through `pd.data` and `pd.lidict`. However, you might find `FProfile.backtraces(::ProfileData)` more immediately useful. "
   ]
  },
  {
   "cell_type": "code",
   "execution_count": 15,
   "metadata": {},
   "outputs": [
    {
     "name": "stdout",
     "output_type": "stream",
     "text": [
      "count = 2\n"
     ]
    },
    {
     "data": {
      "text/plain": [
       "13-element Array{StackFrame,1}:\n",
       " (::IJulia.##14#17)() at task.jl:335                                                                  \n",
       " eventloop(::ZMQ.Socket) at eventloop.jl:8                                                            \n",
       " execute_request(::ZMQ.Socket, ::IJulia.Msg) at execute_request.jl:154                                \n",
       " include_string(::Module, ::String, ::String) at Compat.jl:464                                        \n",
       " include_string(::String, ::String) at loading.jl:515                                                 \n",
       " anonymous at <missing>:?                                                                             \n",
       " macro expansion at FProfile.jl:52 [inlined]                                                          \n",
       " macro expansion at profile.jl:23 [inlined]                                                           \n",
       " macro expansion at FProfile.jl:67 [inlined]                                                          \n",
       " second_derivative(::Function, ::Float64) at derivative.jl:71                                         \n",
       " finite_difference_hessian(::Function, ::Function, ::Float64, ::Symbol) at finite_difference.jl:224   \n",
       " finite_difference(::Calculus.##1#3{Base.#sin,Symbol}, ::Float64, ::Symbol) at finite_difference.jl:55\n",
       " finite_difference(::Base.#sin, ::Float64, ::Symbol) at finite_difference.jl:27                       "
      ]
     },
     "execution_count": 15,
     "metadata": {},
     "output_type": "execute_result"
    }
   ],
   "source": [
    "count, trace = backtraces(pd)[1]  # get the first unique backtrace\n",
    "@show count                       # the number of times that trace occurs in the raw data\n",
    "trace"
   ]
  },
  {
   "cell_type": "markdown",
   "metadata": {},
   "source": [
    "Use the `get_method, get_file, ...` functions on `StackFrame` objects (see above). `tree(pd::ProfileData)` is defined as `tree(backtraces(pd))`, and similarly for `flat`, so you can modify the backtraces and get a tree/flat view of the results."
   ]
  }
 ],
 "metadata": {
  "kernelspec": {
   "display_name": "Julia 0.6.0 (Programa)",
   "language": "julia",
   "name": "julia-0.6-programa"
  },
  "language_info": {
   "file_extension": ".jl",
   "mimetype": "application/julia",
   "name": "julia",
   "version": "0.6.0"
  }
 },
 "nbformat": 4,
 "nbformat_minor": 2
}
