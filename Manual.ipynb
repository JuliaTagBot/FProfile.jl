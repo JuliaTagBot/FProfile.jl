{
 "cells": [
  {
   "cell_type": "code",
   "execution_count": 1,
   "metadata": {
    "collapsed": true
   },
   "outputs": [],
   "source": [
    "using Revise\n"
   ]
  },
  {
   "cell_type": "markdown",
   "metadata": {},
   "source": [
    "[FProfile.jl](https://github.com/cstjean/FProfile.jl) provides an alternative interface for [Julia's sampling profiler](https://docs.julialang.org/en/latest/manual/profile/). Please read the introduction of that document before proceeding if you've never used `@profile`.\n",
    "\n",
    "# Profiling\n",
    "\n",
    "You can build a profile by calling `@fprofile(code, delay=0.001, n_samples=1000000)`:"
   ]
  },
  {
   "cell_type": "code",
   "execution_count": 2,
   "metadata": {},
   "outputs": [
    {
     "name": "stderr",
     "output_type": "stream",
     "text": [
      "\u001b[1m\u001b[36mINFO: \u001b[39m\u001b[22m\u001b[36mRecompiling stale cache file /Users/cedric/.julia/lib/v0.6/FProfile.ji for module FProfile.\n",
      "\u001b[39m"
     ]
    },
    {
     "data": {
      "text/plain": [
       "ProfileData(48 backtraces)"
      ]
     },
     "execution_count": 2,
     "metadata": {},
     "output_type": "execute_result"
    }
   ],
   "source": [
    "using FProfile, Calculus\n",
    "\n",
    "pd = @fprofile second_derivative(sin, 1.0)"
   ]
  },
  {
   "cell_type": "markdown",
   "metadata": {},
   "source": [
    "`@fprofile(N, ...)` is shorthand for `@fprofile(for _ in 1:N ... end)`:"
   ]
  },
  {
   "cell_type": "code",
   "execution_count": 3,
   "metadata": {},
   "outputs": [
    {
     "data": {
      "text/plain": [
       "ProfileData(1016 backtraces)"
      ]
     },
     "execution_count": 3,
     "metadata": {},
     "output_type": "execute_result"
    }
   ],
   "source": [
    "pd = @fprofile 1000000 second_derivative(sin, 1.0)"
   ]
  },
  {
   "cell_type": "markdown",
   "metadata": {},
   "source": [
    "`ProfileData` merely wraps the internal data in `Base.Profile`. Do not forget that Julia compiles code the first time a function is run; if you do not want to measure compilation time, execute your code once before profiling."
   ]
  },
  {
   "cell_type": "markdown",
   "metadata": {},
   "source": [
    "# Flat view\n",
    "\n",
    "FProfile's `flat` report is a [dataframe](http://juliadata.github.io/DataFrames.jl/stable/man/getting_started/#Getting-Started-1), however no particular knowledge of dataframes is necessary. I'll provide a few common operations below."
   ]
  },
  {
   "cell_type": "code",
   "execution_count": 4,
   "metadata": {},
   "outputs": [
    {
     "ename": "LoadError",
     "evalue": "\u001b[91mMethodError: no method matching haskey(::FProfile.#symbol2accessor, ::Symbol)\u001b[0m\nClosest candidates are:\n  haskey(\u001b[91m::DataFrames.Index\u001b[39m, ::Symbol) at /Users/cedric/.julia/v0.6/DataFrames/src/other/index.jl:57\n  haskey(\u001b[91m::Dict\u001b[39m, ::Any) at dict.jl:505\n  haskey(\u001b[91m::Base.ImmutableDict\u001b[39m, ::Any) at dict.jl:639\n  ...\u001b[39m",
     "output_type": "error",
     "traceback": [
      "\u001b[91mMethodError: no method matching haskey(::FProfile.#symbol2accessor, ::Symbol)\u001b[0m\nClosest candidates are:\n  haskey(\u001b[91m::DataFrames.Index\u001b[39m, ::Symbol) at /Users/cedric/.julia/v0.6/DataFrames/src/other/index.jl:57\n  haskey(\u001b[91m::Dict\u001b[39m, ::Any) at dict.jl:505\n  haskey(\u001b[91m::Base.ImmutableDict\u001b[39m, ::Any) at dict.jl:639\n  ...\u001b[39m",
      "",
      "Stacktrace:",
      " [1] \u001b[1msymbol2accessor\u001b[22m\u001b[22m\u001b[1m(\u001b[22m\u001b[22m::Symbol\u001b[1m)\u001b[22m\u001b[22m at \u001b[1m/Users/cedric/.julia/v0.6/FProfile/src/FProfile.jl:101\u001b[22m\u001b[22m",
      " [2] \u001b[1m#flat#45\u001b[22m\u001b[22m\u001b[1m(\u001b[22m\u001b[22m::Bool, ::Symbol, ::Bool, ::Bool, ::Void, ::Function, ::Array{Tuple{Int64,Array{StackFrame,1}},1}\u001b[1m)\u001b[22m\u001b[22m at \u001b[1m/Users/cedric/.julia/v0.6/FProfile/src/FProfile.jl:426\u001b[22m\u001b[22m",
      " [3] \u001b[1m(::FProfile.#kw##flat)\u001b[22m\u001b[22m\u001b[1m(\u001b[22m\u001b[22m::Array{Any,1}, ::FProfile.#flat, ::Array{Tuple{Int64,Array{StackFrame,1}},1}\u001b[1m)\u001b[22m\u001b[22m at \u001b[1m./<missing>:0\u001b[22m\u001b[22m",
      " [4] \u001b[1mflat\u001b[22m\u001b[22m\u001b[1m(\u001b[22m\u001b[22m::FProfile.ProfileData\u001b[1m)\u001b[22m\u001b[22m at \u001b[1m/Users/cedric/.julia/v0.6/FProfile/src/FProfile.jl:409\u001b[22m\u001b[22m",
      " [5] \u001b[1minclude_string\u001b[22m\u001b[22m\u001b[1m(\u001b[22m\u001b[22m::String, ::String\u001b[1m)\u001b[22m\u001b[22m at \u001b[1m./loading.jl:515\u001b[22m\u001b[22m"
     ]
    }
   ],
   "source": [
    "using DataFrames\n",
    "\n",
    "df = flat(pd)\n",
    "head(df, 5)   # show only the first 5 rows (the 5 rows with the highest count)"
   ]
  },
  {
   "cell_type": "markdown",
   "metadata": {},
   "source": [
    "The first column shows what fraction of backtraces (in %) go through the `method at file:line_number` in the `stackframe` column. It's the same quantity as in `Base.Profile.print()`, except for recursive calls: if `f(1)` calls `f(0)`, that's 2 counts in Base's report, but only 1 count in FProfile.\n",
    "\n",
    "The other columns unpack the `stackframe`; they are useful for selecting subsets of the table. For instance, if I only care about the `derivative` function, I might use\n",
    "\n",
    "```julia\n",
    "    df[df[:function].===derivative, :]\n",
    "```\n",
    "\n",
    "It is common to focus optimization efforts on one or more modules at a time (... the ones you're developing). `flat(pd, MyModule)` filters out other modules and adds a useful column: `end_count_percent` measures how much `MyModule`-specific work is done on that line.\n",
    "\n",
    "For instance, in the code below, while the `do_computation()` call takes a long time (it has a high `count_percent`), it merely calls another `Main` function, so it has a low `end_count_percent`. `sum_of_sin` has `end_count_percent = 100%` because while it calls `sum` and `sin`, those are defined in another module (`Base`), and counted as external to `Main`.\n",
    "\n",
    "`flat(pd, (Module1, Module2, ...))` is also accepted."
   ]
  },
  {
   "cell_type": "code",
   "execution_count": 5,
   "metadata": {},
   "outputs": [
    {
     "ename": "LoadError",
     "evalue": "\u001b[91mMethodError: no method matching haskey(::FProfile.#symbol2accessor, ::Symbol)\u001b[0m\nClosest candidates are:\n  haskey(\u001b[91m::DataFrames.Index\u001b[39m, ::Symbol) at /Users/cedric/.julia/v0.6/DataFrames/src/other/index.jl:57\n  haskey(\u001b[91m::Dict\u001b[39m, ::Any) at dict.jl:505\n  haskey(\u001b[91m::Base.ImmutableDict\u001b[39m, ::Any) at dict.jl:639\n  ...\u001b[39m",
     "output_type": "error",
     "traceback": [
      "\u001b[91mMethodError: no method matching haskey(::FProfile.#symbol2accessor, ::Symbol)\u001b[0m\nClosest candidates are:\n  haskey(\u001b[91m::DataFrames.Index\u001b[39m, ::Symbol) at /Users/cedric/.julia/v0.6/DataFrames/src/other/index.jl:57\n  haskey(\u001b[91m::Dict\u001b[39m, ::Any) at dict.jl:505\n  haskey(\u001b[91m::Base.ImmutableDict\u001b[39m, ::Any) at dict.jl:639\n  ...\u001b[39m",
      "",
      "Stacktrace:",
      " [1] \u001b[1msymbol2accessor\u001b[22m\u001b[22m\u001b[1m(\u001b[22m\u001b[22m::Symbol\u001b[1m)\u001b[22m\u001b[22m at \u001b[1m/Users/cedric/.julia/v0.6/FProfile/src/FProfile.jl:101\u001b[22m\u001b[22m",
      " [2] \u001b[1m#flat#45\u001b[22m\u001b[22m\u001b[1m(\u001b[22m\u001b[22m::Bool, ::Symbol, ::Bool, ::Bool, ::Tuple{Module}, ::Function, ::Array{Tuple{Int64,Array{StackFrame,1}},1}\u001b[1m)\u001b[22m\u001b[22m at \u001b[1m/Users/cedric/.julia/v0.6/FProfile/src/FProfile.jl:426\u001b[22m\u001b[22m",
      " [3] \u001b[1m(::FProfile.#kw##flat)\u001b[22m\u001b[22m\u001b[1m(\u001b[22m\u001b[22m::Array{Any,1}, ::FProfile.#flat, ::Array{Tuple{Int64,Array{StackFrame,1}},1}\u001b[1m)\u001b[22m\u001b[22m at \u001b[1m./<missing>:0\u001b[22m\u001b[22m (repeats 2 times)",
      " [4] \u001b[1m#flat#62\u001b[22m\u001b[22m\u001b[1m(\u001b[22m\u001b[22m::Array{Any,1}, ::Function, ::FProfile.ProfileData, ::Module\u001b[1m)\u001b[22m\u001b[22m at \u001b[1m/Users/cedric/.julia/v0.6/FProfile/src/FProfile.jl:450\u001b[22m\u001b[22m",
      " [5] \u001b[1mflat\u001b[22m\u001b[22m\u001b[1m(\u001b[22m\u001b[22m::FProfile.ProfileData, ::Module\u001b[1m)\u001b[22m\u001b[22m at \u001b[1m/Users/cedric/.julia/v0.6/FProfile/src/FProfile.jl:450\u001b[22m\u001b[22m",
      " [6] \u001b[1minclude_string\u001b[22m\u001b[22m\u001b[1m(\u001b[22m\u001b[22m::String, ::String\u001b[1m)\u001b[22m\u001b[22m at \u001b[1m./loading.jl:515\u001b[22m\u001b[22m"
     ]
    }
   ],
   "source": [
    "@noinline do_computation(n) = sum_of_sin(n)\n",
    "@noinline sum_of_sin(n) = sum(sin, 1:n)\n",
    "pd2 = @fprofile do_computation(10000000)\n",
    "flat(pd2, Main)"
   ]
  },
  {
   "cell_type": "markdown",
   "metadata": {},
   "source": [
    "It pays to make sure that functions with a high `end_count_percent` are [well optimized](https://docs.julialang.org/en/latest/manual/performance-tips/).\n",
    "\n",
    "Another way to reduce the level of detail is to aggregate by `:specialization, :method, :file, :function`, or `:module`."
   ]
  },
  {
   "cell_type": "code",
   "execution_count": 6,
   "metadata": {},
   "outputs": [
    {
     "ename": "LoadError",
     "evalue": "\u001b[91mMethodError: no method matching haskey(::FProfile.#symbol2accessor, ::Symbol)\u001b[0m\nClosest candidates are:\n  haskey(\u001b[91m::DataFrames.Index\u001b[39m, ::Symbol) at /Users/cedric/.julia/v0.6/DataFrames/src/other/index.jl:57\n  haskey(\u001b[91m::Dict\u001b[39m, ::Any) at dict.jl:505\n  haskey(\u001b[91m::Base.ImmutableDict\u001b[39m, ::Any) at dict.jl:639\n  ...\u001b[39m",
     "output_type": "error",
     "traceback": [
      "\u001b[91mMethodError: no method matching haskey(::FProfile.#symbol2accessor, ::Symbol)\u001b[0m\nClosest candidates are:\n  haskey(\u001b[91m::DataFrames.Index\u001b[39m, ::Symbol) at /Users/cedric/.julia/v0.6/DataFrames/src/other/index.jl:57\n  haskey(\u001b[91m::Dict\u001b[39m, ::Any) at dict.jl:505\n  haskey(\u001b[91m::Base.ImmutableDict\u001b[39m, ::Any) at dict.jl:639\n  ...\u001b[39m",
      "",
      "Stacktrace:",
      " [1] \u001b[1msymbol2accessor\u001b[22m\u001b[22m\u001b[1m(\u001b[22m\u001b[22m::Symbol\u001b[1m)\u001b[22m\u001b[22m at \u001b[1m/Users/cedric/.julia/v0.6/FProfile/src/FProfile.jl:101\u001b[22m\u001b[22m",
      " [2] \u001b[1m#flat#45\u001b[22m\u001b[22m\u001b[1m(\u001b[22m\u001b[22m::Bool, ::Symbol, ::Bool, ::Bool, ::Void, ::Function, ::Array{Tuple{Int64,Array{StackFrame,1}},1}\u001b[1m)\u001b[22m\u001b[22m at \u001b[1m/Users/cedric/.julia/v0.6/FProfile/src/FProfile.jl:426\u001b[22m\u001b[22m",
      " [3] \u001b[1m(::FProfile.#kw##flat)\u001b[22m\u001b[22m\u001b[1m(\u001b[22m\u001b[22m::Array{Any,1}, ::FProfile.#flat, ::Array{Tuple{Int64,Array{StackFrame,1}},1}\u001b[1m)\u001b[22m\u001b[22m at \u001b[1m./<missing>:0\u001b[22m\u001b[22m (repeats 2 times)",
      " [4] \u001b[1minclude_string\u001b[22m\u001b[22m\u001b[1m(\u001b[22m\u001b[22m::String, ::String\u001b[1m)\u001b[22m\u001b[22m at \u001b[1m./loading.jl:515\u001b[22m\u001b[22m"
     ]
    }
   ],
   "source": [
    "df_by_method = flat(pd, combineby=:method)"
   ]
  },
  {
   "cell_type": "markdown",
   "metadata": {},
   "source": [
    "You can see the context (caller/called functions) around each of these rows by passing it to `tree`:"
   ]
  },
  {
   "cell_type": "code",
   "execution_count": 7,
   "metadata": {},
   "outputs": [
    {
     "ename": "LoadError",
     "evalue": "\u001b[91mUndefVarError: df_by_method not defined\u001b[39m",
     "output_type": "error",
     "traceback": [
      "\u001b[91mUndefVarError: df_by_method not defined\u001b[39m",
      "",
      "Stacktrace:",
      " [1] \u001b[1minclude_string\u001b[22m\u001b[22m\u001b[1m(\u001b[22m\u001b[22m::String, ::String\u001b[1m)\u001b[22m\u001b[22m at \u001b[1m./loading.jl:515\u001b[22m\u001b[22m"
     ]
    }
   ],
   "source": [
    "tree(pd, df_by_method, 9)   # show the context of the 9th row of `df_by_method`"
   ]
  },
  {
   "cell_type": "markdown",
   "metadata": {},
   "source": [
    "Other useful dataframe commands:\n",
    "\n",
    "```julia\n",
    "df[[:count_percent, :method]]   # select only those two columns\n",
    "sort(df, cols=:end_count_percent, rev=true)  # sort by end_count_percent\n",
    "showall(df)   # show the whole dataframe\n",
    "```\n",
    "\n",
    "See `?flat` for more options."
   ]
  },
  {
   "cell_type": "markdown",
   "metadata": {},
   "source": [
    "# Tree view\n",
    "\n",
    "FProfile's tree view looks the same as `Base.Profile.print(format=:tree)`. The numbers represent raw counts. (If some branches seem out of place, see [this issue](https://github.com/JuliaLang/julia/issues/9689))"
   ]
  },
  {
   "cell_type": "code",
   "execution_count": 8,
   "metadata": {},
   "outputs": [
    {
     "data": {
      "text/plain": [
       " 1012 ./task.jl:335; (::IJulia.##14#17)()\n",
       "  1012 ...ulia/src/eventloop.jl:8; eventloop(::ZMQ.Socket)\n",
       "   1012 ...c/execute_request.jl:154; execute_request(::ZMQ.Socket, :...\n",
       "    1012 ...Compat/src/Compat.jl:464; include_string(::Module, ::Str...\n",
       "     1012 ./loading.jl:515; include_string(::String, ::String)\n",
       "      1012 ./<missing>:?; anonymous\n",
       "       1012 ...ile/src/FProfile.jl:40; macro expansion\n",
       "        1012 ./profile.jl:23; macro expansion\n",
       "         1011 ...le/src/FProfile.jl:55; macro expansion\n",
       "          2    .../src/derivative.jl:0; second_derivative(::Functio...\n",
       "          1006 .../src/derivative.jl:71; second_derivative(::Functio...\n",
       "           5   ...src/derivative.jl:0; derivative(::Function, ::Sy...\n",
       "           1   ...src/derivative.jl:2; derivative(::Function, ::Sy...\n",
       "           559 ...src/derivative.jl:3; derivative(::Function, ::Sy...\n",
       "           2   ...ite_difference.jl:0; finite_difference_hessian(:...\n",
       "           188 ...ite_difference.jl:224; finite_difference_hessian(:...\n",
       "            1   ...ite_difference.jl:0; finite_difference(::Calculu...\n",
       "            25  ...ite_difference.jl:27; finite_difference(::Calculu...\n",
       "            133 ...ite_difference.jl:55; finite_difference(::Calculu...\n",
       "             2  ./math.jl:300; finite_difference(::Base.#...\n",
       "             1  ...ite_difference.jl:0; finite_difference(::Base.#...\n",
       "             27 ...ite_difference.jl:27; finite_difference(::Base.#...\n",
       "             3  ...ite_difference.jl:54; finite_difference(::Base.#...\n",
       "             86 ...ite_difference.jl:55; finite_difference(::Base.#...\n",
       "              69 ./math.jl:419; sin\n",
       "               2 ./math.jl:300; nan_dom_err\n",
       "             3  ...ite_difference.jl:59; finite_difference(::Base.#...\n",
       "            1   ...ite_difference.jl:59; finite_difference(::Calculu...\n",
       " 2    ...lus/src/derivative.jl:0; derivative(::Function, ::Symbol,...\n",
       " 2    .../finite_difference.jl:0; finite_difference(::Calculus.##1...\n"
      ]
     },
     "execution_count": 8,
     "metadata": {},
     "output_type": "execute_result"
    }
   ],
   "source": [
    "tr = tree(pd)"
   ]
  },
  {
   "cell_type": "markdown",
   "metadata": {},
   "source": [
    "If you're interested in a particular module/file/method/function, you can pass it to `tree`, along with an optional _neighborhood range_."
   ]
  },
  {
   "cell_type": "code",
   "execution_count": 9,
   "metadata": {},
   "outputs": [
    {
     "ename": "LoadError",
     "evalue": "\u001b[91mMethodError: no method matching haskey(::FProfile.#symbol2accessor, ::Symbol)\u001b[0m\nClosest candidates are:\n  haskey(\u001b[91m::DataFrames.Index\u001b[39m, ::Symbol) at /Users/cedric/.julia/v0.6/DataFrames/src/other/index.jl:57\n  haskey(\u001b[91m::Dict\u001b[39m, ::Any) at dict.jl:505\n  haskey(\u001b[91m::Base.ImmutableDict\u001b[39m, ::Any) at dict.jl:639\n  ...\u001b[39m",
     "output_type": "error",
     "traceback": [
      "\u001b[91mMethodError: no method matching haskey(::FProfile.#symbol2accessor, ::Symbol)\u001b[0m\nClosest candidates are:\n  haskey(\u001b[91m::DataFrames.Index\u001b[39m, ::Symbol) at /Users/cedric/.julia/v0.6/DataFrames/src/other/index.jl:57\n  haskey(\u001b[91m::Dict\u001b[39m, ::Any) at dict.jl:505\n  haskey(\u001b[91m::Base.ImmutableDict\u001b[39m, ::Any) at dict.jl:639\n  ...\u001b[39m",
      "",
      "Stacktrace:",
      " [1] \u001b[1msymbol2accessor\u001b[22m\u001b[22m\u001b[1m(\u001b[22m\u001b[22m::Symbol\u001b[1m)\u001b[22m\u001b[22m at \u001b[1m/Users/cedric/.julia/v0.6/FProfile/src/FProfile.jl:101\u001b[22m\u001b[22m",
      " [2] \u001b[1m#tree#36\u001b[22m\u001b[22m\u001b[1m(\u001b[22m\u001b[22m::Array{Any,1}, ::Function, ::FProfile.ProfileData, ::Calculus.#second_derivative, ::UnitRange{Int64}\u001b[1m)\u001b[22m\u001b[22m at \u001b[1m/Users/cedric/.julia/v0.6/FProfile/src/FProfile.jl:336\u001b[22m\u001b[22m",
      " [3] \u001b[1mtree\u001b[22m\u001b[22m\u001b[1m(\u001b[22m\u001b[22m::FProfile.ProfileData, ::Calculus.#second_derivative, ::UnitRange{Int64}\u001b[1m)\u001b[22m\u001b[22m at \u001b[1m/Users/cedric/.julia/v0.6/FProfile/src/FProfile.jl:336\u001b[22m\u001b[22m",
      " [4] \u001b[1minclude_string\u001b[22m\u001b[22m\u001b[1m(\u001b[22m\u001b[22m::String, ::String\u001b[1m)\u001b[22m\u001b[22m at \u001b[1m./loading.jl:515\u001b[22m\u001b[22m"
     ]
    }
   ],
   "source": [
    "tr_deriv = tree(pd, second_derivative, -1:1)    # -1:1 = show one level of callers and one level of called functions"
   ]
  },
  {
   "cell_type": "markdown",
   "metadata": {},
   "source": [
    "Trees are an indexable and filterable datastructure. Use `get_specialization, get_method, get_file, get_function, get_module, is_C_call` and `is_inlined` in your `filter` predicate."
   ]
  },
  {
   "cell_type": "code",
   "execution_count": 10,
   "metadata": {},
   "outputs": [
    {
     "ename": "LoadError",
     "evalue": "\u001b[91mUndefVarError: tr_deriv not defined\u001b[39m",
     "output_type": "error",
     "traceback": [
      "\u001b[91mUndefVarError: tr_deriv not defined\u001b[39m",
      "",
      "Stacktrace:",
      " [1] \u001b[1minclude_string\u001b[22m\u001b[22m\u001b[1m(\u001b[22m\u001b[22m::String, ::String\u001b[1m)\u001b[22m\u001b[22m at \u001b[1m./loading.jl:515\u001b[22m\u001b[22m"
     ]
    }
   ],
   "source": [
    "tr_deriv[1,1]"
   ]
  },
  {
   "cell_type": "markdown",
   "metadata": {},
   "source": [
    "# Backtraces\n",
    "\n",
    "(if you want to build your own analysis)\n",
    "\n",
    "The raw Profile data is available either through `Base.Profile.retrieve()`, or through `pd.data` and `pd.lidict`. However, you might find `FProfile.backtraces(::ProfileData)` more immediately useful. "
   ]
  },
  {
   "cell_type": "code",
   "execution_count": 11,
   "metadata": {},
   "outputs": [
    {
     "name": "stdout",
     "output_type": "stream",
     "text": [
      "count = 1\n"
     ]
    },
    {
     "data": {
      "text/plain": [
       "10-element Array{StackFrame,1}:\n",
       " (::IJulia.##14#17)() at task.jl:335                                  \n",
       " eventloop(::ZMQ.Socket) at eventloop.jl:8                            \n",
       " execute_request(::ZMQ.Socket, ::IJulia.Msg) at execute_request.jl:154\n",
       " include_string(::Module, ::String, ::String) at Compat.jl:464        \n",
       " include_string(::String, ::String) at loading.jl:515                 \n",
       " anonymous at <missing>:?                                             \n",
       " macro expansion at FProfile.jl:40 [inlined]                          \n",
       " macro expansion at profile.jl:23 [inlined]                           \n",
       " macro expansion at FProfile.jl:55 [inlined]                          \n",
       " second_derivative(::Function, ::Float64) at derivative.jl:71         "
      ]
     },
     "execution_count": 11,
     "metadata": {},
     "output_type": "execute_result"
    }
   ],
   "source": [
    "count, trace = backtraces(pd)[1]  # get the first unique backtrace\n",
    "@show count                       # the number of times that trace occurs in the raw data\n",
    "trace"
   ]
  },
  {
   "cell_type": "markdown",
   "metadata": {},
   "source": [
    "Use the `get_method, get_file, ...` functions on `StackFrame` objects (see above). `tree(pd::ProfileData)` is defined as `tree(backtraces(pd))`, and similarly for `flat`, so you can modify the backtraces and get a tree/flat view of the results."
   ]
  }
 ],
 "metadata": {
  "kernelspec": {
   "display_name": "Julia 0.6.0 (Programa)",
   "language": "julia",
   "name": "julia-0.6-programa"
  },
  "language_info": {
   "file_extension": ".jl",
   "mimetype": "application/julia",
   "name": "julia",
   "version": "0.6.0"
  }
 },
 "nbformat": 4,
 "nbformat_minor": 2
}
