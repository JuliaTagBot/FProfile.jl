{
 "cells": [
  {
   "cell_type": "markdown",
   "metadata": {},
   "source": [
    "FProfile.jl provides an alternative interface around Julia's [sampling profiler](https://docs.julialang.org/en/latest/manual/profile/). Please skim that document before proceeding if you've never used `@profile`.\n",
    "\n",
    "# Profiling\n",
    "\n",
    "You can build a profile by calling `@fprofile(code, delay=0.001, n_samples=1000000)`:"
   ]
  },
  {
   "cell_type": "code",
   "execution_count": 2,
   "metadata": {},
   "outputs": [
    {
     "data": {
      "text/plain": [
       "ProfileData(46 backtraces)"
      ]
     },
     "execution_count": 2,
     "metadata": {},
     "output_type": "execute_result"
    }
   ],
   "source": [
    "using FProfile, Calculus\n",
    "\n",
    "pd = @fprofile second_derivative(sin, 1.0)"
   ]
  },
  {
   "cell_type": "markdown",
   "metadata": {},
   "source": [
    "`@fprofile(N, ...)` is a shorthand for `@fprofile(for _ in 1:N .... end)`:"
   ]
  },
  {
   "cell_type": "code",
   "execution_count": 3,
   "metadata": {},
   "outputs": [
    {
     "data": {
      "text/plain": [
       "ProfileData(1048 backtraces)"
      ]
     },
     "execution_count": 3,
     "metadata": {},
     "output_type": "execute_result"
    }
   ],
   "source": [
    "pd = @fprofile 1000000 second_derivative(sin, 1.0)"
   ]
  },
  {
   "cell_type": "markdown",
   "metadata": {},
   "source": [
    "`ProfileData` merely wraps the internal data in `Base.Profile`. Do not forget that Julia compiles code the first time a function is run; if you do not want to measure compilation time, execute your code once before profiling."
   ]
  },
  {
   "cell_type": "markdown",
   "metadata": {},
   "source": [
    "# Flat view\n",
    "\n",
    "FProfile's `flat` report is a [dataframe](http://juliadata.github.io/DataFrames.jl/stable/man/getting_started/#Getting-Started-1), however no particular knowledge of dataframes is necessary. I'll provide a few common operations below."
   ]
  },
  {
   "cell_type": "code",
   "execution_count": 4,
   "metadata": {},
   "outputs": [
    {
     "data": {
      "text/html": [
       "<table class=\"data-frame\"><thead><tr><th></th><th>count_percent</th><th>stackframe</th><th>specialization</th><th>method</th><th>file</th><th>function</th><th>module</th></tr></thead><tbody><tr><th>1</th><td>92.08</td><td>execute_request(::ZMQ.Socket, ::IJulia.Msg) at execute_request.jl:154</td><td>MethodInstance for execute_request(::ZMQ.Socket, ::IJulia.Msg)</td><td>execute_request(socket, msg) in IJulia at /Users/cedric/.julia/v0.6/IJulia/src/execute_request.jl:115</td><td>/Users/cedric/.julia/v0.6/IJulia/src/execute_request.jl</td><td>IJulia.execute_request</td><td>IJulia</td></tr><tr><th>2</th><td>92.08</td><td>anonymous at &lt;missing&gt;:?</td><td>MethodInstance for missing_info()</td><td>missing_info() in FProfile at /Users/cedric/.julia/v0.6/FProfile/src/FProfile.jl:327</td><td>/Users/cedric/.julia/v0.6/FProfile/src/FProfile.jl</td><td>FProfile.missing_info</td><td>FProfile</td></tr><tr><th>3</th><td>92.08</td><td>macro expansion at FProfile.jl:38 [inlined]</td><td>MethodInstance for missing_info()</td><td>missing_info() in FProfile at /Users/cedric/.julia/v0.6/FProfile/src/FProfile.jl:327</td><td>/Users/cedric/.julia/v0.6/FProfile/src/FProfile.jl</td><td>FProfile.missing_info</td><td>FProfile</td></tr><tr><th>4</th><td>92.08</td><td>(::IJulia.##14#17)() at task.jl:335</td><td>MethodInstance for (::IJulia.##14#17)()</td><td>(::IJulia.##14#17)() in IJulia at task.jl:335</td><td>task.jl</td><td>IJulia.#14</td><td>IJulia</td></tr><tr><th>5</th><td>92.08</td><td>eventloop(::ZMQ.Socket) at eventloop.jl:8</td><td>MethodInstance for eventloop(::ZMQ.Socket)</td><td>eventloop(socket) in IJulia at /Users/cedric/.julia/v0.6/IJulia/src/eventloop.jl:2</td><td>/Users/cedric/.julia/v0.6/IJulia/src/eventloop.jl</td><td>IJulia.eventloop</td><td>IJulia</td></tr></tbody></table>"
      ],
      "text/plain": [
       "5×7 DataFrames.DataFrame\n",
       "│ Row │ count_percent │\n",
       "├─────┼───────────────┤\n",
       "│ 1   │ 92.08         │\n",
       "│ 2   │ 92.08         │\n",
       "│ 3   │ 92.08         │\n",
       "│ 4   │ 92.08         │\n",
       "│ 5   │ 92.08         │\n",
       "\n",
       "│ Row │ stackframe                                                            │\n",
       "├─────┼───────────────────────────────────────────────────────────────────────┤\n",
       "│ 1   │ execute_request(::ZMQ.Socket, ::IJulia.Msg) at execute_request.jl:154 │\n",
       "│ 2   │ anonymous at <missing>:?                                              │\n",
       "│ 3   │ macro expansion at FProfile.jl:38 [inlined]                           │\n",
       "│ 4   │ (::IJulia.##14#17)() at task.jl:335                                   │\n",
       "│ 5   │ eventloop(::ZMQ.Socket) at eventloop.jl:8                             │\n",
       "\n",
       "│ Row │ specialization                                                 │\n",
       "├─────┼────────────────────────────────────────────────────────────────┤\n",
       "│ 1   │ MethodInstance for execute_request(::ZMQ.Socket, ::IJulia.Msg) │\n",
       "│ 2   │ MethodInstance for missing_info()                              │\n",
       "│ 3   │ MethodInstance for missing_info()                              │\n",
       "│ 4   │ MethodInstance for (::IJulia.##14#17)()                        │\n",
       "│ 5   │ MethodInstance for eventloop(::ZMQ.Socket)                     │\n",
       "\n",
       "│ Row │ method                                                                                                │\n",
       "├─────┼───────────────────────────────────────────────────────────────────────────────────────────────────────┤\n",
       "│ 1   │ execute_request(socket, msg) in IJulia at /Users/cedric/.julia/v0.6/IJulia/src/execute_request.jl:115 │\n",
       "│ 2   │ missing_info() in FProfile at /Users/cedric/.julia/v0.6/FProfile/src/FProfile.jl:327                  │\n",
       "│ 3   │ missing_info() in FProfile at /Users/cedric/.julia/v0.6/FProfile/src/FProfile.jl:327                  │\n",
       "│ 4   │ (::IJulia.##14#17)() in IJulia at task.jl:335                                                         │\n",
       "│ 5   │ eventloop(socket) in IJulia at /Users/cedric/.julia/v0.6/IJulia/src/eventloop.jl:2                    │\n",
       "\n",
       "│ Row │ file                                                    │\n",
       "├─────┼─────────────────────────────────────────────────────────┤\n",
       "│ 1   │ /Users/cedric/.julia/v0.6/IJulia/src/execute_request.jl │\n",
       "│ 2   │ /Users/cedric/.julia/v0.6/FProfile/src/FProfile.jl      │\n",
       "│ 3   │ /Users/cedric/.julia/v0.6/FProfile/src/FProfile.jl      │\n",
       "│ 4   │ task.jl                                                 │\n",
       "│ 5   │ /Users/cedric/.julia/v0.6/IJulia/src/eventloop.jl       │\n",
       "\n",
       "│ Row │ function               │ module   │\n",
       "├─────┼────────────────────────┼──────────┤\n",
       "│ 1   │ IJulia.execute_request │ IJulia   │\n",
       "│ 2   │ FProfile.missing_info  │ FProfile │\n",
       "│ 3   │ FProfile.missing_info  │ FProfile │\n",
       "│ 4   │ IJulia.#14             │ IJulia   │\n",
       "│ 5   │ IJulia.eventloop       │ IJulia   │"
      ]
     },
     "execution_count": 4,
     "metadata": {},
     "output_type": "execute_result"
    }
   ],
   "source": [
    "using DataFrames\n",
    "\n",
    "df = flat(pd)\n",
    "head(df, 5)   # show only the first 5 rows (the 5 rows with the highest count)"
   ]
  },
  {
   "cell_type": "markdown",
   "metadata": {},
   "source": [
    "The first column shows what fraction of backtraces (in %) go through the `method at file:line_number` in the `stackframe` column. It's the same quantity as in `Base.Profile.print()`, except for recursive calls: if `f(1)` calls `f(0)`, that's 2 counts in Base's report, but only 1 count in FProfile.\n",
    "\n",
    "The rest of the columns merely unpack the `stackframe`; they are useful for selecting subsets of the table. For instance, if I only care about the `derivative` function, I might use\n",
    "\n",
    "```julia\n",
    "    df[df[:function].===derivative, :]\n",
    "```\n",
    "\n",
    "It is common to focus optimization efforts on one module at a time (... the one you're developing). `flat(pd, MyModule)` filters out other modules and adds a useful column: `end_count_percent` measures how much `MyModule`-specific work is done on that line.\n",
    "\n",
    "For instance, in the code below, while the `do_computation()` call takes a long time (it has a high `count_percent`), it merely calls another function, so it has a low `end_count_percent`. `sum_of_sin` has `end_count_percent = ~87%` because while it calls `sum` and `sin`, those are defined in another module (`Base`), and counted as external.\n",
    "\n",
    "Why 87% and not 100%? That's a [bug in the profiler](https://github.com/JuliaLang/julia/issues/9689)."
   ]
  },
  {
   "cell_type": "code",
   "execution_count": 189,
   "metadata": {},
   "outputs": [
    {
     "data": {
      "text/html": [
       "<table class=\"data-frame\"><thead><tr><th></th><th>count_percent</th><th>end_count_percent</th><th>stackframe</th><th>specialization</th><th>method</th><th>file</th><th>function</th><th>module</th></tr></thead><tbody><tr><th>1</th><td>87.5</td><td>0.0</td><td>do_computation(::Int64) at In[189]:1</td><td>MethodInstance for do_computation(::Int64)</td><td>do_computation(n) in Main at In[189]:1</td><td>In[189]</td><td>do_computation</td><td>Main</td></tr><tr><th>2</th><td>87.5</td><td>87.5</td><td>sum_of_sin(::Int64) at In[189]:2</td><td>MethodInstance for sum_of_sin(::Int64)</td><td>sum_of_sin(n) in Main at In[189]:2</td><td>In[189]</td><td>sum_of_sin</td><td>Main</td></tr></tbody></table>"
      ],
      "text/plain": [
       "2×8 DataFrames.DataFrame\n",
       "│ Row │ count_percent │ end_count_percent │\n",
       "├─────┼───────────────┼───────────────────┤\n",
       "│ 1   │ 87.5          │ 0.0               │\n",
       "│ 2   │ 87.5          │ 87.5              │\n",
       "\n",
       "│ Row │ stackframe                           │\n",
       "├─────┼──────────────────────────────────────┤\n",
       "│ 1   │ do_computation(::Int64) at In[189]:1 │\n",
       "│ 2   │ sum_of_sin(::Int64) at In[189]:2     │\n",
       "\n",
       "│ Row │ specialization                             │\n",
       "├─────┼────────────────────────────────────────────┤\n",
       "│ 1   │ MethodInstance for do_computation(::Int64) │\n",
       "│ 2   │ MethodInstance for sum_of_sin(::Int64)     │\n",
       "\n",
       "│ Row │ method                                 │ file    │ function       │\n",
       "├─────┼────────────────────────────────────────┼─────────┼────────────────┤\n",
       "│ 1   │ do_computation(n) in Main at In[189]:1 │ In[189] │ do_computation │\n",
       "│ 2   │ sum_of_sin(n) in Main at In[189]:2     │ In[189] │ sum_of_sin     │\n",
       "\n",
       "│ Row │ module │\n",
       "├─────┼────────┤\n",
       "│ 1   │ Main   │\n",
       "│ 2   │ Main   │"
      ]
     },
     "execution_count": 189,
     "metadata": {},
     "output_type": "execute_result"
    }
   ],
   "source": [
    "@noinline do_computation(n) = sum_of_sin(n)\n",
    "@noinline sum_of_sin(n) = sum(sin, 1:n)\n",
    "pd2 = @fprofile do_computation(10000000)\n",
    "flat(pd2, Main)"
   ]
  },
  {
   "cell_type": "markdown",
   "metadata": {},
   "source": [
    "It pays to make sure that functions with a high `end_count_percent` are [well optimized](https://docs.julialang.org/en/latest/manual/performance-tips/).\n",
    "\n",
    "Another way to reduce the level of detail is to aggregate by `:specialization, :method, :file, :function`, or `:module`."
   ]
  },
  {
   "cell_type": "code",
   "execution_count": 190,
   "metadata": {},
   "outputs": [
    {
     "data": {
      "text/html": [
       "<table class=\"data-frame\"><thead><tr><th></th><th>count_percent</th><th>method</th><th>file</th><th>function</th><th>module</th></tr></thead><tbody><tr><th>1</th><td>92.08</td><td>include_string(txt::String, fname::String) in Base at loading.jl:515</td><td>loading.jl</td><td>include_string</td><td>Base</td></tr><tr><th>2</th><td>92.08</td><td>missing_info() in FProfile at /Users/cedric/.julia/v0.6/FProfile/src/FProfile.jl:327</td><td>/Users/cedric/.julia/v0.6/FProfile/src/FProfile.jl</td><td>FProfile.missing_info</td><td>FProfile</td></tr><tr><th>3</th><td>92.08</td><td>execute_request(socket, msg) in IJulia at /Users/cedric/.julia/v0.6/IJulia/src/execute_request.jl:115</td><td>/Users/cedric/.julia/v0.6/IJulia/src/execute_request.jl</td><td>IJulia.execute_request</td><td>IJulia</td></tr><tr><th>4</th><td>92.08</td><td>(::IJulia.##14#17)() in IJulia at task.jl:335</td><td>task.jl</td><td>IJulia.#14</td><td>IJulia</td></tr><tr><th>5</th><td>92.08</td><td>include_string(mod::Module, code::String, fname::String) in Compat at /Users/cedric/.julia/v0.6/Compat/src/Compat.jl:464</td><td>/Users/cedric/.julia/v0.6/Compat/src/Compat.jl</td><td>include_string</td><td>Compat</td></tr><tr><th>6</th><td>92.08</td><td>eventloop(socket) in IJulia at /Users/cedric/.julia/v0.6/IJulia/src/eventloop.jl:2</td><td>/Users/cedric/.julia/v0.6/IJulia/src/eventloop.jl</td><td>IJulia.eventloop</td><td>IJulia</td></tr><tr><th>7</th><td>91.98</td><td>second_derivative(f::Function, x::Number) in Calculus at /Users/cedric/.julia/v0.6/Calculus/src/derivative.jl:71</td><td>/Users/cedric/.julia/v0.6/Calculus/src/derivative.jl</td><td>Calculus.second_derivative</td><td>Calculus</td></tr><tr><th>8</th><td>49.62</td><td>derivative(f::Function, ftype::Symbol, dtype::Symbol) in Calculus at /Users/cedric/.julia/v0.6/Calculus/src/derivative.jl:2</td><td>/Users/cedric/.julia/v0.6/Calculus/src/derivative.jl</td><td>Calculus.derivative</td><td>Calculus</td></tr><tr><th>9</th><td>16.51</td><td>finite_difference_hessian(f::Function, g::Function, x::Number, dtype::Symbol) in Calculus at /Users/cedric/.julia/v0.6/Calculus/src/finite_difference.jl:224</td><td>/Users/cedric/.julia/v0.6/Calculus/src/finite_difference.jl</td><td>Calculus.finite_difference_hessian</td><td>Calculus</td></tr><tr><th>10</th><td>13.36</td><td>finite_difference(f::Function, x::T, dtype::Symbol) where T&lt;:Number in Calculus at /Users/cedric/.julia/v0.6/Calculus/src/finite_difference.jl:48</td><td>/Users/cedric/.julia/v0.6/Calculus/src/finite_difference.jl</td><td>Calculus.finite_difference</td><td>Calculus</td></tr></tbody></table>"
      ],
      "text/plain": [
       "10×5 DataFrames.DataFrame\n",
       "│ Row │ count_percent │\n",
       "├─────┼───────────────┤\n",
       "│ 1   │ 92.08         │\n",
       "│ 2   │ 92.08         │\n",
       "│ 3   │ 92.08         │\n",
       "│ 4   │ 92.08         │\n",
       "│ 5   │ 92.08         │\n",
       "│ 6   │ 92.08         │\n",
       "│ 7   │ 91.98         │\n",
       "│ 8   │ 49.62         │\n",
       "│ 9   │ 16.51         │\n",
       "│ 10  │ 13.36         │\n",
       "\n",
       "│ Row │ method                                                                                                                                                       │\n",
       "├─────┼──────────────────────────────────────────────────────────────────────────────────────────────────────────────────────────────────────────────────────────────┤\n",
       "│ 1   │ include_string(txt::String, fname::String) in Base at loading.jl:515                                                                                         │\n",
       "│ 2   │ missing_info() in FProfile at /Users/cedric/.julia/v0.6/FProfile/src/FProfile.jl:327                                                                         │\n",
       "│ 3   │ execute_request(socket, msg) in IJulia at /Users/cedric/.julia/v0.6/IJulia/src/execute_request.jl:115                                                        │\n",
       "│ 4   │ (::IJulia.##14#17)() in IJulia at task.jl:335                                                                                                                │\n",
       "│ 5   │ include_string(mod::Module, code::String, fname::String) in Compat at /Users/cedric/.julia/v0.6/Compat/src/Compat.jl:464                                     │\n",
       "│ 6   │ eventloop(socket) in IJulia at /Users/cedric/.julia/v0.6/IJulia/src/eventloop.jl:2                                                                           │\n",
       "│ 7   │ second_derivative(f::Function, x::Number) in Calculus at /Users/cedric/.julia/v0.6/Calculus/src/derivative.jl:71                                             │\n",
       "│ 8   │ derivative(f::Function, ftype::Symbol, dtype::Symbol) in Calculus at /Users/cedric/.julia/v0.6/Calculus/src/derivative.jl:2                                  │\n",
       "│ 9   │ finite_difference_hessian(f::Function, g::Function, x::Number, dtype::Symbol) in Calculus at /Users/cedric/.julia/v0.6/Calculus/src/finite_difference.jl:224 │\n",
       "│ 10  │ finite_difference(f::Function, x::T, dtype::Symbol) where T<:Number in Calculus at /Users/cedric/.julia/v0.6/Calculus/src/finite_difference.jl:48            │\n",
       "\n",
       "│ Row │ file                                                        │\n",
       "├─────┼─────────────────────────────────────────────────────────────┤\n",
       "│ 1   │ loading.jl                                                  │\n",
       "│ 2   │ /Users/cedric/.julia/v0.6/FProfile/src/FProfile.jl          │\n",
       "│ 3   │ /Users/cedric/.julia/v0.6/IJulia/src/execute_request.jl     │\n",
       "│ 4   │ task.jl                                                     │\n",
       "│ 5   │ /Users/cedric/.julia/v0.6/Compat/src/Compat.jl              │\n",
       "│ 6   │ /Users/cedric/.julia/v0.6/IJulia/src/eventloop.jl           │\n",
       "│ 7   │ /Users/cedric/.julia/v0.6/Calculus/src/derivative.jl        │\n",
       "│ 8   │ /Users/cedric/.julia/v0.6/Calculus/src/derivative.jl        │\n",
       "│ 9   │ /Users/cedric/.julia/v0.6/Calculus/src/finite_difference.jl │\n",
       "│ 10  │ /Users/cedric/.julia/v0.6/Calculus/src/finite_difference.jl │\n",
       "\n",
       "│ Row │ function                           │ module   │\n",
       "├─────┼────────────────────────────────────┼──────────┤\n",
       "│ 1   │ include_string                     │ Base     │\n",
       "│ 2   │ FProfile.missing_info              │ FProfile │\n",
       "│ 3   │ IJulia.execute_request             │ IJulia   │\n",
       "│ 4   │ IJulia.#14                         │ IJulia   │\n",
       "│ 5   │ include_string                     │ Compat   │\n",
       "│ 6   │ IJulia.eventloop                   │ IJulia   │\n",
       "│ 7   │ Calculus.second_derivative         │ Calculus │\n",
       "│ 8   │ Calculus.derivative                │ Calculus │\n",
       "│ 9   │ Calculus.finite_difference_hessian │ Calculus │\n",
       "│ 10  │ Calculus.finite_difference         │ Calculus │"
      ]
     },
     "execution_count": 190,
     "metadata": {},
     "output_type": "execute_result"
    }
   ],
   "source": [
    "flat(pd, combineby=:method)"
   ]
  },
  {
   "cell_type": "markdown",
   "metadata": {},
   "source": [
    "Other useful dataframe commands:\n",
    "\n",
    "```julia\n",
    "df[[:count_percent, :method]]   # select only those two columns\n",
    "sort(df, cols=:end_count_percent, rev=true)  # sort by end_count_percent\n",
    "showall(df)   # show the whole dataframe\n",
    "```\n",
    "\n",
    "See also `?flat` for more options."
   ]
  },
  {
   "cell_type": "markdown",
   "metadata": {},
   "source": [
    "# Tree view\n",
    "\n",
    "FProfile's tree view looks the same as `Base.Profile.print(format=:tree)`, and supports the same options (see `?tree`):"
   ]
  },
  {
   "cell_type": "code",
   "execution_count": 197,
   "metadata": {},
   "outputs": [
    {
     "data": {
      "text/plain": [
       " 965 ./task.jl:335; (::IJulia.##14#17)()\n",
       "  965 ...Julia/src/eventloop.jl:8; eventloop(::ZMQ.Socket)\n",
       "   965 ...rc/execute_request.jl:154; execute_request(::ZMQ.Socket, ::...\n",
       "    965 ...Compat/src/Compat.jl:464; include_string(::Module, ::Stri...\n",
       "     965 ./loading.jl:515; include_string(::String, ::String)\n",
       "      965 ./<missing>:?; anonymous\n",
       "       965 ...ile/src/FProfile.jl:38; macro expansion\n",
       "        965 ./profile.jl:23; macro expansion\n",
       "         965 ...ile/src/FProfile.jl:53; macro expansion\n",
       "          5   .../src/derivative.jl:0; second_derivative(::Function...\n",
       "          959 .../src/derivative.jl:71; second_derivative(::Function...\n",
       "           7   ...src/derivative.jl:0; derivative(::Function, ::Sy...\n",
       "           513 ...src/derivative.jl:3; derivative(::Function, ::Sy...\n",
       "           5   ...ite_difference.jl:0; finite_difference_hessian(:...\n",
       "           168 ...ite_difference.jl:224; finite_difference_hessian(:...\n",
       "            4  ...nite_difference.jl:0; finite_difference(::Calculu...\n",
       "            34 ...nite_difference.jl:27; finite_difference(::Calculu...\n",
       "            3  ...nite_difference.jl:54; finite_difference(::Calculu...\n",
       "            99 ...nite_difference.jl:55; finite_difference(::Calculu...\n",
       "             2  ...ite_difference.jl:0; finite_difference(::Base.#s...\n",
       "             21 ...ite_difference.jl:27; finite_difference(::Base.#s...\n",
       "             2  ...ite_difference.jl:48; finite_difference(::Base.#s...\n",
       "             2  ...ite_difference.jl:54; finite_difference(::Base.#s...\n",
       "             63 ...ite_difference.jl:55; finite_difference(::Base.#s...\n",
       "              54 ./math.jl:419; sin\n",
       "               1 ./math.jl:300; nan_dom_err\n"
      ]
     },
     "execution_count": 197,
     "metadata": {},
     "output_type": "execute_result"
    }
   ],
   "source": [
    "tr = tree(pd)"
   ]
  },
  {
   "cell_type": "markdown",
   "metadata": {},
   "source": [
    "However, the return value is an indexable and filterable datastructure:"
   ]
  },
  {
   "cell_type": "code",
   "execution_count": 209,
   "metadata": {},
   "outputs": [
    {
     "data": {
      "text/plain": [
       " 5   ...ulus/src/derivative.jl:0; second_derivative(::Function, ::F...\n",
       " 959 ...ulus/src/derivative.jl:71; second_derivative(::Function, ::F...\n",
       "  7   ...lus/src/derivative.jl:0; derivative(::Function, ::Symbol,...\n",
       "  513 ...lus/src/derivative.jl:3; derivative(::Function, ::Symbol,...\n",
       "  5   .../finite_difference.jl:0; finite_difference_hessian(::Func...\n",
       "  168 .../finite_difference.jl:224; finite_difference_hessian(::Func...\n",
       "   4  .../finite_difference.jl:0; finite_difference(::Calculus.##1#...\n",
       "   34 .../finite_difference.jl:27; finite_difference(::Calculus.##1#...\n",
       "   3  .../finite_difference.jl:54; finite_difference(::Calculus.##1#...\n",
       "   99 .../finite_difference.jl:55; finite_difference(::Calculus.##1#...\n",
       "    2  .../finite_difference.jl:0; finite_difference(::Base.#sin, :...\n",
       "    21 .../finite_difference.jl:27; finite_difference(::Base.#sin, :...\n",
       "    2  .../finite_difference.jl:48; finite_difference(::Base.#sin, :...\n",
       "    2  .../finite_difference.jl:54; finite_difference(::Base.#sin, :...\n",
       "    63 .../finite_difference.jl:55; finite_difference(::Base.#sin, :...\n"
      ]
     },
     "execution_count": 209,
     "metadata": {},
     "output_type": "execute_result"
    }
   ],
   "source": [
    "tr_calc = filter(sf->get_module(sf)===Calculus, tr)"
   ]
  },
  {
   "cell_type": "code",
   "execution_count": 210,
   "metadata": {},
   "outputs": [
    {
     "data": {
      "text/plain": [
       "168 ...c/finite_difference.jl:224; finite_difference_hessian(::Funct...\n",
       " 4  ...c/finite_difference.jl:0; finite_difference(::Calculus.##1#3...\n",
       " 34 ...c/finite_difference.jl:27; finite_difference(::Calculus.##1#3...\n",
       " 3  ...c/finite_difference.jl:54; finite_difference(::Calculus.##1#3...\n",
       " 99 ...c/finite_difference.jl:55; finite_difference(::Calculus.##1#3...\n",
       "  2  ...c/finite_difference.jl:0; finite_difference(::Base.#sin, ::...\n",
       "  21 ...c/finite_difference.jl:27; finite_difference(::Base.#sin, ::...\n",
       "  2  ...c/finite_difference.jl:48; finite_difference(::Base.#sin, ::...\n",
       "  2  ...c/finite_difference.jl:54; finite_difference(::Base.#sin, ::...\n",
       "  63 ...c/finite_difference.jl:55; finite_difference(::Base.#sin, ::...\n"
      ]
     },
     "execution_count": 210,
     "metadata": {},
     "output_type": "execute_result"
    }
   ],
   "source": [
    "tr_calc[2, 4]"
   ]
  },
  {
   "cell_type": "markdown",
   "metadata": {},
   "source": [
    "The functions `get_specialization, get_method, get_file, get_function, get_module, is_C_call, is_inlined` all accept a `StackFrame` argument, and are useful to select the calls you care about (note that C calls are excluded by default; see `?tree`)."
   ]
  },
  {
   "cell_type": "markdown",
   "metadata": {},
   "source": [
    "# Backtraces\n",
    "\n",
    "(if you want to build your own analysis)\n",
    "\n",
    "The raw Profile data is available either through `Base.Profile.retrieve()`, or through `pd.data, pd.lidict`. However, you might find `FProfile.backtraces(::ProfileData)` more immediately useful."
   ]
  },
  {
   "cell_type": "code",
   "execution_count": 208,
   "metadata": {},
   "outputs": [
    {
     "name": "stdout",
     "output_type": "stream",
     "text": [
      "count = 1\n"
     ]
    },
    {
     "data": {
      "text/plain": [
       "11-element Array{StackFrame,1}:\n",
       " (::IJulia.##14#17)() at task.jl:335                                  \n",
       " eventloop(::ZMQ.Socket) at eventloop.jl:8                            \n",
       " execute_request(::ZMQ.Socket, ::IJulia.Msg) at execute_request.jl:154\n",
       " include_string(::Module, ::String, ::String) at Compat.jl:464        \n",
       " include_string(::String, ::String) at loading.jl:515                 \n",
       " anonymous at <missing>:?                                             \n",
       " macro expansion at FProfile.jl:38 [inlined]                          \n",
       " macro expansion at profile.jl:23 [inlined]                           \n",
       " macro expansion at FProfile.jl:53 [inlined]                          \n",
       " second_derivative(::Function, ::Float64) at derivative.jl:71         \n",
       " derivative(::Function, ::Symbol, ::Symbol) at derivative.jl:3        "
      ]
     },
     "execution_count": 208,
     "metadata": {},
     "output_type": "execute_result"
    }
   ],
   "source": [
    "count, trace = backtraces(pd)[1]  # get the first unique backtrace\n",
    "@show count                       # the number of times that trace occurs in the raw data\n",
    "trace"
   ]
  },
  {
   "cell_type": "markdown",
   "metadata": {},
   "source": [
    "Use the `get_method, get_file, ...` functions on `StackFrame` objects (see above)."
   ]
  }
 ],
 "metadata": {
  "kernelspec": {
   "display_name": "Julia 0.6.0 (Programa)",
   "language": "julia",
   "name": "julia-0.6-programa"
  },
  "language_info": {
   "file_extension": ".jl",
   "mimetype": "application/julia",
   "name": "julia",
   "version": "0.6.0"
  }
 },
 "nbformat": 4,
 "nbformat_minor": 2
}
